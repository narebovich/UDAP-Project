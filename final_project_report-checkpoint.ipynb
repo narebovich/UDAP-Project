{
 "cells": [
  {
   "cell_type": "markdown",
   "metadata": {},
   "source": [
    "<center><h1 style=\"color: #0077c1;\">Twitter Discussions on Vaccine Hesitancy</h1>\n",
    "\n",
    "<hr>\n",
    "\n",
    "<h2>By Alton Lu, Ben Hayes, Sarah Cho, and Nik Rebovich</h2>\n",
    "\n",
    "<h2>Unstructured Data Analytics for Policy (94-775)</h2></center>\n",
    "\n",
    "<table>\n",
    "    <tr>\n",
    "        <th style=\"text-align: center;\">Alton Lu</th>\n",
    "        <th style=\"text-align: center;\">Ben Hayes</th>\n",
    "        <th style=\"text-align: center;\">Sarah Cho</th>\n",
    "        <th style=\"text-align: center;\">Nik Rebovich</th>\n",
    "    </tr>\n",
    "    <tr>\n",
    "        <td><img src=\"https://media.licdn.com/dms/image/C5603AQEEFwUOdPusYg/profile-displayphoto-shrink_800_800/0?e=1556755200&v=beta&t=RwenqDLazRhOE74pGibnq--eT9e70pFTdNGT10fKJzc\" style=\"width: 75px;\"/></td>\n",
    "        <td><img src=\"https://avatars2.githubusercontent.com/u/406734?s=460&v=4\" style=\"width: 75px;\"/></td>\n",
    "        <td><img src=\"https://media.licdn.com/dms/image/C5603AQEtTP2q94MX2w/profile-displayphoto-shrink_800_800/0?e=1556755200&v=beta&t=iRtQQ0kCSA8tWvC2QhlWPmMLlMOeyFdvR2TQIf7u9SU\" style=\"width: 75px;\"/></td>\n",
    "        <td><img src=\"https://i.imgur.com/8KFp67z.jpg\" style=\"width: 75px;\"></td>\n",
    "    </tr>\n",
    "    <tr>\n",
    "        <td style=\"text-align: center;\">altonl</td>\n",
    "        <td style=\"text-align: center;\">benh</td>\n",
    "        <td style=\"text-align: center;\">jcho</td>\n",
    "        <td style=\"text-align: center;\">nrebovic</td>\n",
    "    </tr>\n",
    "</table>"
   ]
  },
  {
   "cell_type": "markdown",
   "metadata": {},
   "source": [
    "<hr>\n",
    "\n",
    "<h2 style=\"color: #006caf;\">Table of Contents</h2>\n",
    "\n",
    "<ol>\n",
    "    <li><a href=\"#background\"><h3>Project Background</h3></a></li>\n",
    "    <li><a href=\"#exploration\"><h3>Data Exploration</h3></a></li>\n",
    "    <li><a href=\"#analysis\"><h3>Analysis</h3></a></li>\n",
    "    <li><a href=\"#conclusion\"><h3>Findings & Conclusion</h3></a></li>\n",
    "</ol>"
   ]
  },
  {
   "cell_type": "markdown",
   "metadata": {},
   "source": [
    "<hr>\n",
    "\n",
    "<h2 style=\"color: #006caf;\"><a id=\"background\">Project Background</a></h2>"
   ]
  },
  {
   "cell_type": "markdown",
   "metadata": {},
   "source": [
    "### Social Media & The Rise of Vaccine Debates\n",
    "\n",
    "The World Health Organization (WHO) announced that one of the top threats to global health in 2019 is vaccine hesitancy (the anti-vaccine movement)<sup>1</sup>. Vaccine hesitancy is the reluctance or refusal to vaccinate despite the availability. These movements are happening across the globe.\n",
    "\n",
    "Last year, a measles outbreak infected over 15,000 people in Romania during a period of plummeting vaccination rates<sup>2</sup>. In September of 2018, Italy loosened its vaccine law for kids returning to schools<sup>3</sup>. There was a protest last week in Washington State against a bill would prevent vaccinations opt outs for students.\n",
    "\n",
    "Herd immunity is the derived benefit when a significant majority of individuals within a community are vaccinated against a disease. Different vaccines have different thresholds for attaining herd immunity. For example, measles requires approximately 95% of individuals have a vaccine<sup>4</sup>. Ensuring herd immunity is critical for preventing the spread of disease for those who cannot be vaccinated (esp. infants and young children).  As such, when the proportion of individuals who are vaccinated declines to a rate lower than the threshold, herd immunity is threatened.\n",
    "\n",
    "This growing phenomena, cultural obsession with vaccinations, and debate surrounding 'Anti-Vax' movements, is the motivation for our project and the focus of our policy question.\n",
    "\n",
    "\n",
    "<sup>1 https://www.who.int/emergencies/ten-threats-to-global-health-in-2019</sup><br/>\n",
    "<sup>2 https://www.wsj.com/articles/more-romanians-reject-a-key-weapon-as-nation-battles-a-measles-outbreak-1536139801</sup><br/>\n",
    "<sup>3 https://www.nytimes.com/2018/09/20/world/europe/italy-vaccines-five-star-movement.html</sup><br/>\n",
    "<sup>4 http://vk.ovg.ox.ac.uk/herd-immunity</sup><br/>"
   ]
  },
  {
   "cell_type": "markdown",
   "metadata": {},
   "source": [
    "### Policy Question\n",
    "\n",
    "<br/><div style=\"background-color: #9edaff; font-size: 24px;\"><br/>\n",
    "<center>With the rise of social media and availability of unstructured text data, can policy makers force social media companies to regulate anti-vaccine content on their platforms?</center>\n",
    "<br/></div>"
   ]
  },
  {
   "cell_type": "markdown",
   "metadata": {},
   "source": [
    "### Data\n",
    "\n",
    "To answer our policy question, we need supporting data. Twitter, the social media platform known for text-message-sized tweets of 140 characters or less, and massively retweeted messages, is a great source for communication from and between anti-vaccine, pro-Vaccine, and neutral individuals.\n",
    "\n",
    "Using the Twitter API, we scrape over 7000 tweets which have been labeled {BY WHOM} as **'Anti-vaccine'**, **'Pro-vaccine'** and **'Neutral'**. \n",
    "\n",
    "In addition to the labels, we have the following values for each of the 7000+ tweets:\n",
    "\n",
    "* Retweet count (number of times the tweet has been retweeted')\n",
    "* Favorite count (number of times the tweet has been marked as 'favorite')\n",
    "* Created date (date the tweet was posted)"
   ]
  },
  {
   "cell_type": "markdown",
   "metadata": {},
   "source": [
    "#### Data Acquisition from Twitter API\n",
    "\n",
    "The following code pulls in the tweet data from the Twitter API. Credentials including a valid API key must be stored in the twitter_credentials.json file within the same directory as this notebook. <span style=\"color: darkred;\">Note: The credentials file is not supplied because our API keys are private but the code has been provided below and commented out.</span>"
   ]
  },
  {
   "cell_type": "code",
   "execution_count": 1,
   "metadata": {},
   "outputs": [],
   "source": [
    "# import json\n",
    "# import numpy as np\n",
    "# import pandas as pd\n",
    "# import tweepy\n",
    "# import csv\n",
    "# import time\n",
    "\n",
    "# from IPython.core.interactiveshell import InteractiveShell\n",
    "# InteractiveShell.ast_node_interactivity = \"all\"\n",
    "\n",
    "# with open('twitter_credentials.json') as cred_data:\n",
    "#     info = json.load(cred_data)\n",
    "#     consumer_key = info['CONSUMER_KEY']\n",
    "#     consumer_secret = info['CONSUMER_SECRET']\n",
    "#     access_token = info['ACCESS_KEY']\n",
    "#     access_token_secret = info['ACCESS_SECRET']\n",
    "    \n",
    "# auth = tweepy.OAuthHandler(consumer_key, consumer_secret)\n",
    "# auth.set_access_token(access_token, access_token_secret)\n",
    "\n",
    "# # This will throw an error if you send too large of a request\n",
    "# api = tweepy.API(auth, wait_on_rate_limit=True, wait_on_rate_limit_notify=True)\n",
    "\n",
    "# # Read in the list of tweet IDs to download\n",
    "# tweet_ids = []\n",
    "# tweet_labels = []\n",
    "# with open(\"./data/2018_ajph_weaponized_health_10k_data.txt\") as d:\n",
    "#     for i, line in enumerate(d.readlines()):\n",
    "#         if i > 1:\n",
    "#             tweet_id, tweet_label = line.split()\n",
    "#             tweet_ids.append(tweet_id)\n",
    "#             tweet_labels.append(tweet_label)\n",
    "\n",
    "# # Pull the tweets\n",
    "# for i in range(int(len(tweet_ids)/100)):\n",
    "#     print(i)\n",
    "\n",
    "#     start_idx = i*100\n",
    "#     end_idx = (i+1)*100\n",
    "\n",
    "#     t = tweet_ids[start_idx:end_idx]\n",
    "\n",
    "#     # This will return the list of tweets - 100 at a time\n",
    "#     print(\"Collecting Tweets for Index: \", str(start_idx), \":\", str(end_idx))\n",
    "#     tweets = api.statuses_lookup(t)\n",
    "    \n",
    "#     results = []\n",
    "#     for i in tweets:\n",
    "#         a = json.dumps(i._json)\n",
    "#         a = json.loads(a)\n",
    "#         text = a['text']\n",
    "#         id = a['id']\n",
    "#         retweet = a['retweet_count']\n",
    "#         favorite = a['favorite_count']\n",
    "#         created = a['created_at']\n",
    "#         results.append((str(id), str(text), str(retweet), str(favorite), str(created)))\n",
    "\n",
    "#     print(\"Writing new lines to file\")\n",
    "#     with open('tweet_data.csv','a', encoding='utf-8') as out:\n",
    "#         csv_out = csv.writer(out)\n",
    "#         for row in results:\n",
    "#             csv_out.writerow(row)\n",
    "\n",
    "#     print(\"Sleeping for 105 seconds\")\n",
    "#     time.sleep(105)"
   ]
  },
  {
   "cell_type": "markdown",
   "metadata": {},
   "source": [
    "### Approach"
   ]
  },
  {
   "cell_type": "markdown",
   "metadata": {},
   "source": [
    "In this project, we use a handful of methods to retrieve, prepare, and analyze the data. We apply TF-IDF and engineer additional features to prepare the data. We construct models to classify tweets as anti-vaccine, pro-vaccine, or neutral. In addition, we applied cross-validation on random forest and logistic regression classifiers to improve classification performance."
   ]
  },
  {
   "cell_type": "markdown",
   "metadata": {},
   "source": [
    "<hr>\n",
    "\n",
    "<h2 style=\"color: #006caf;\"><a id=\"exploration\">Data Exploration</a></h2>\n",
    "\n",
    "1. Term Frequencies for groups\n",
    "2. Exploring Hashtags and @ terms\n",
    "3. Clustering\n",
    "    - PCA\n",
    "    - TSNE\n",
    "    - GMM"
   ]
  },
  {
   "cell_type": "code",
   "execution_count": 2,
   "metadata": {},
   "outputs": [],
   "source": [
    "# load packages\n",
    "import pandas as pd\n",
    "import re\n",
    "import string\n",
    "import codecs\n",
    "import numpy as np\n",
    "import spacy\n",
    "from collections import Counter"
   ]
  },
  {
   "cell_type": "code",
   "execution_count": 3,
   "metadata": {},
   "outputs": [],
   "source": [
    "nlp = spacy.load('en', disable = ['parser', 'tagger'])\n",
    "\n",
    "from spacy.tokenizer import Tokenizer\n",
    "tokenizer = Tokenizer(nlp.vocab)"
   ]
  },
  {
   "cell_type": "code",
   "execution_count": 4,
   "metadata": {},
   "outputs": [],
   "source": [
    "def makeWordList(listText):\n",
    "    \n",
    "#     with codecs.open(path, \"r\", encoding='utf-8', errors='ignore') as f:\n",
    "#         corpus_text = f.read()\n",
    "    corpus_text = listText\n",
    "    for c in string.punctuation:\n",
    "        corpus_text = corpus_text.replace(c, \"\")  # -- (1)\n",
    "    \n",
    "    text = re.sub(r'\\S*\\d\\S*', '', corpus_text) # -- (2)\n",
    "    text = re.sub(r'[^\\w\\s]', '', text)         # -- (3)\n",
    "    \n",
    "    text = text.lower().split()           # -- (4)         \n",
    "    \n",
    "    li = []\n",
    "    for token in text:\n",
    "        li.append(token)\n",
    "\n",
    "    return \" \".join(li)"
   ]
  },
  {
   "cell_type": "code",
   "execution_count": 72,
   "metadata": {},
   "outputs": [],
   "source": [
    "tweet_data = pd.read_csv(\"./data/vaccine_tweets.csv\", header=0)\n",
    "text_list = tweet_data['text']"
   ]
  },
  {
   "cell_type": "code",
   "execution_count": 6,
   "metadata": {},
   "outputs": [
    {
     "data": {
      "text/plain": [
       "0    .: Getting A Reliable Flu Vaccine DC https://t...\n",
       "1    , New HIV Vaccine Trial To Commence In S/Afric...\n",
       "2    .@CDCgov, @NIH, &amp; others are working to de...\n",
       "Name: text, dtype: object"
      ]
     },
     "execution_count": 6,
     "metadata": {},
     "output_type": "execute_result"
    }
   ],
   "source": [
    "tweet_data.head(3)\n",
    "text_list[:3]"
   ]
  },
  {
   "cell_type": "code",
   "execution_count": 7,
   "metadata": {},
   "outputs": [
    {
     "data": {
      "text/plain": [
       "(array(['Anti-Vaccine', 'Neutral', 'Pro-Vaccine'], dtype=object),\n",
       " array([1565, 4353, 1115], dtype=int64))"
      ]
     },
     "execution_count": 7,
     "metadata": {},
     "output_type": "execute_result"
    }
   ],
   "source": [
    "np.unique(tweet_data['Label'], return_counts=True)"
   ]
  },
  {
   "cell_type": "markdown",
   "metadata": {},
   "source": [
    "We have unbalanced classes, with 1565 as explicitly anti-vaccine, with roughly 5500 as neutral or pro-vaccine"
   ]
  },
  {
   "cell_type": "code",
   "execution_count": 8,
   "metadata": {},
   "outputs": [],
   "source": [
    "corpus = []\n",
    "for i in text_list:\n",
    "    document = makeWordList(i)\n",
    "    corpus.append(document)"
   ]
  },
  {
   "cell_type": "code",
   "execution_count": 9,
   "metadata": {},
   "outputs": [
    {
     "name": "stdout",
     "output_type": "stream",
     "text": [
      "Wall time: 20.7 s\n"
     ]
    }
   ],
   "source": [
    "%%time\n",
    "tweet_bag_words = []\n",
    "for tweet in corpus:\n",
    "    text = nlp(tweet)\n",
    "    tweet_bag_words.append(text)"
   ]
  },
  {
   "cell_type": "markdown",
   "metadata": {},
   "source": [
    "### Most common words from Anti-vax vs Non-anti vax"
   ]
  },
  {
   "cell_type": "code",
   "execution_count": 10,
   "metadata": {},
   "outputs": [],
   "source": [
    "# Process to properly subset the data into two groups\n",
    "tweet_bag_words = np.array(tweet_bag_words)\n",
    "doc_labels = np.array(tweet_data['Label'])\n",
    "anti_idx = np.where(doc_labels=='Anti-Vaccine')[0]\n",
    "other_idx = np.where(doc_labels!='Anti-Vaccine')[0]\n",
    "len(anti_idx)\n",
    "len(other_idx)\n",
    "\n",
    "# Subset the tweets into anti vs non-anti\n",
    "anti_tweets = tweet_bag_words[anti_idx]\n",
    "other_tweets = tweet_bag_words[other_idx]"
   ]
  },
  {
   "cell_type": "code",
   "execution_count": 11,
   "metadata": {},
   "outputs": [],
   "source": [
    "anti = Counter()\n",
    "other = Counter()\n",
    "\n",
    "for document in anti_tweets:\n",
    "    for token in document:\n",
    "        lemma = token.lemma_.lower()\n",
    "        if re.match('[a-zA-Z]+$', str(lemma)) and not (nlp.vocab[lemma].is_stop or token.pos_ == 'PUNCT' or token.pos_ == 'SPACE'):\n",
    "            anti[lemma] += 1\n",
    "            \n",
    "for document in other_tweets:\n",
    "    for token in document:\n",
    "        lemma = token.lemma_.lower()\n",
    "        if re.match('[a-zA-Z]+$', str(lemma)) and not (nlp.vocab[lemma].is_stop or token.pos_ == 'PUNCT' or token.pos_ == 'SPACE'):\n",
    "            other[lemma] += 1\n",
    "            \n",
    "anti_counts = sorted(anti.items(),reverse=True, key=lambda x: x[1])\n",
    "\n",
    "other_counts = sorted(other.items(),reverse=True, key=lambda x: x[1])"
   ]
  },
  {
   "cell_type": "code",
   "execution_count": 12,
   "metadata": {},
   "outputs": [
    {
     "name": "stdout",
     "output_type": "stream",
     "text": [
      "The Top 25 Words in Anti-Vaccines\n",
      "Rank 1 Word:  vaccine : 1500\n",
      "Rank 2 Word:  child : 179\n",
      "Rank 3 Word:  vaccinate : 172\n",
      "Rank 4 Word:  autism : 172\n",
      "Rank 5 Word:  hpv : 103\n",
      "Rank 6 Word:  cdc : 98\n",
      "Rank 7 Word:  flu : 97\n",
      "Rank 8 Word:  injury : 87\n",
      "Rank 9 Word:  amp : 84\n",
      "Rank 10 Word:  parent : 80\n",
      "Rank 11 Word:  cause : 76\n",
      "Rank 12 Word:  doctor : 76\n",
      "Rank 13 Word:  cancer : 67\n",
      "Rank 14 Word:  admit : 62\n",
      "Rank 15 Word:  polio : 61\n",
      "Rank 16 Word:  kid : 60\n",
      "Rank 17 Word:  cdcwhistleblower : 54\n",
      "Rank 18 Word:  link : 54\n",
      "Rank 19 Word:  people : 53\n",
      "Rank 20 Word:  health : 52\n",
      "Rank 21 Word:  vaxxed : 50\n",
      "Rank 22 Word:  know : 50\n",
      "Rank 23 Word:  find : 50\n",
      "Rank 24 Word:  million : 49\n",
      "Rank 25 Word:  study : 48\n"
     ]
    }
   ],
   "source": [
    "print(\"The Top 25 Words in Anti-Vaccines\")\n",
    "for rank, (lemma, count) in enumerate(anti_counts[:25]):\n",
    "    print(\"Rank \" + str(rank+1) + \" Word: \", lemma, \":\", count)"
   ]
  },
  {
   "cell_type": "code",
   "execution_count": 13,
   "metadata": {},
   "outputs": [
    {
     "name": "stdout",
     "output_type": "stream",
     "text": [
      "The Top 25 Words in Non-anti-Vaccines\n",
      "Rank 1 Word:  vaccine : 4453\n",
      "Rank 2 Word:  vaccinate : 709\n",
      "Rank 3 Word:  flu : 433\n",
      "Rank 4 Word:  child : 372\n",
      "Rank 5 Word:  zika : 368\n",
      "Rank 6 Word:  new : 350\n",
      "Rank 7 Word:  vaccination : 331\n",
      "Rank 8 Word:  virus : 313\n",
      "Rank 9 Word:  hpv : 297\n",
      "Rank 10 Word:  polio : 291\n",
      "Rank 11 Word:  ebola : 290\n",
      "Rank 12 Word:  news : 250\n",
      "Rank 13 Word:  health : 242\n",
      "Rank 14 Word:  trial : 232\n",
      "Rank 15 Word:  kid : 228\n",
      "Rank 16 Word:  amp : 225\n",
      "Rank 17 Word:  cancer : 214\n",
      "Rank 18 Word:  world : 206\n",
      "Rank 19 Word:  disease : 193\n",
      "Rank 20 Word:  need : 192\n",
      "Rank 21 Word:  study : 191\n",
      "Rank 22 Word:  measle : 183\n",
      "Rank 23 Word:  year : 181\n",
      "Rank 24 Word:  hiv : 174\n",
      "Rank 25 Word:  autism : 172\n"
     ]
    }
   ],
   "source": [
    "print(\"The Top 25 Words in Non-anti-Vaccines\")\n",
    "for rank, (lemma, count) in enumerate(other_counts[:25]):\n",
    "    print(\"Rank \" + str(rank+1) + \" Word: \", lemma, \":\", count)"
   ]
  },
  {
   "cell_type": "markdown",
   "metadata": {},
   "source": [
    "There are some interesting finds from looking at the term frequencies. \n",
    "- The main takeaway is that nearly all text have strong overlap. We see vaccine, child, parent, autism all appear very often in both groups.\n",
    "- However, we see that there are definitely differences in the probability of the words appear. Namely, parents appear more often in anti-vaccine while there are more related to possible public health issues (Zika, Measles) in the other cases\n",
    "\n",
    "These simple findings make us believe that we may be able to find clusters that show differences between the groups"
   ]
  },
  {
   "cell_type": "markdown",
   "metadata": {},
   "source": [
    "### Exploring Hashtags and @"
   ]
  },
  {
   "cell_type": "code",
   "execution_count": 14,
   "metadata": {},
   "outputs": [],
   "source": [
    "import csv \n",
    "\n",
    "import re\n",
    "#read in the processed tweet data\n",
    "finDat = './data/vaccine_tweets.csv'\n",
    "with open(finDat, mode='r', encoding=\"utf8\") as csvfile:\n",
    "   csvdump = csv.reader(csvfile, delimiter=',')\n",
    "   data = [word for word in csvdump]\n",
    "\n",
    "#extract hashtags and @s\n",
    "extract_hash = re.compile(r'[#](\\w+)\\b')\n",
    "extract_at = re.compile(r'[@](\\w+)\\b')\n",
    "\n",
    "col_header=data.pop(0)\n",
    "col_header.append('hashtags')\n",
    "col_header.append('ats')\n",
    "\n",
    "for row in data: \n",
    "    hashes = extract_hash.findall(row[1])\n",
    "    if len(hashes)>0:\n",
    "        row.append(hashes)    \n",
    "    elif len(hashes) == 0:\n",
    "        row.append([])\n",
    "    \n",
    "    ats = extract_at.findall(row[1])    \n",
    "    if len(ats)>0:\n",
    "        row.append(ats)\n",
    "    elif len(ats) == 0:\n",
    "        row.append([])"
   ]
  },
  {
   "cell_type": "code",
   "execution_count": 15,
   "metadata": {},
   "outputs": [
    {
     "name": "stdout",
     "output_type": "stream",
     "text": [
      "health : 58\n",
      "vaccines : 56\n",
      "CDCwhistleblower : 54\n",
      "vaccineswork : 42\n",
      "vaccine : 34\n",
      "news : 34\n",
      "Zika : 33\n",
      "Ebola : 33\n",
      "SB277 : 31\n",
      "HPV : 30\n",
      "flu : 26\n",
      "VaccinesWork : 26\n",
      "autism : 23\n",
      "News : 21\n",
      "ChimpsBetrayed : 19\n"
     ]
    },
    {
     "data": {
      "text/plain": [
       "Text(0,0.5,'Raw count')"
      ]
     },
     "execution_count": 15,
     "metadata": {},
     "output_type": "execute_result"
    },
    {
     "data": {
      "image/png": "[encoded data removed]",
      "text/plain": [
       "<Figure size 576x396 with 1 Axes>"
      ]
     },
     "metadata": {},
     "output_type": "display_data"
    }
   ],
   "source": [
    "#frequency analysis for hashtags\n",
    "#frequency for hashes\n",
    "import itertools\n",
    "from collections import Counter\n",
    "hashtag_freq_counter = Counter()\n",
    "\n",
    "tot_hashtags = [row[7] for row in data if len(row[7])!=0] \n",
    "hashtags = list(itertools.chain.from_iterable(tot_hashtags))\n",
    "\n",
    "for hashes in hashtags:\n",
    "    hashtag_freq_counter[hashes] += 1\n",
    "\n",
    "from operator import itemgetter\n",
    "sorted_hashtag_freqs = sorted(hashtag_freq_counter.items(),\n",
    "                                  reverse=True,\n",
    "                                  key=itemgetter(1))\n",
    "#print(len(sorted_hashtag_freqs)), this is 1518. \n",
    "\n",
    "#printing top 15\n",
    "for hashes, count in sorted_hashtag_freqs[:15]:\n",
    "    print(hashes, \":\", count)\n",
    "\n",
    "#plotting bar chart   \n",
    "%matplotlib inline\n",
    "import matplotlib.pyplot as plt\n",
    "plt.style.use('seaborn') \n",
    "\n",
    "num_top_hashes_to_plot = 25\n",
    "top_hashes = [hashes for hashes, count in sorted_hashtag_freqs[:num_top_hashes_to_plot]]\n",
    "top_counts = [count for hashes, count in sorted_hashtag_freqs[:num_top_hashes_to_plot]]\n",
    "plt.bar(range(num_top_hashes_to_plot), top_counts)\n",
    "plt.xticks(range(num_top_hashes_to_plot), top_hashes, rotation=90)\n",
    "plt.xlabel('Hashtags')\n",
    "plt.ylabel('Raw count')"
   ]
  },
  {
   "cell_type": "code",
   "execution_count": 60,
   "metadata": {},
   "outputs": [
    {
     "data": {
      "text/plain": [
       "['health',\n",
       " 'vaccines',\n",
       " 'CDCwhistleblower',\n",
       " 'vaccineswork',\n",
       " 'vaccine',\n",
       " 'news',\n",
       " 'Zika',\n",
       " 'Ebola',\n",
       " 'SB277',\n",
       " 'HPV',\n",
       " 'flu',\n",
       " 'VaccinesWork',\n",
       " 'autism',\n",
       " 'News',\n",
       " 'ChimpsBetrayed',\n",
       " 'HIV',\n",
       " 'polio',\n",
       " 'Flu',\n",
       " 'vaxxed',\n",
       " 'science',\n",
       " 'Health',\n",
       " 'India',\n",
       " 'malaria',\n",
       " 'Vaxxed',\n",
       " 'vaxfax']"
      ]
     },
     "execution_count": 60,
     "metadata": {},
     "output_type": "execute_result"
    }
   ],
   "source": []
  },
  {
   "cell_type": "code",
   "execution_count": 16,
   "metadata": {},
   "outputs": [
    {
     "name": "stdout",
     "output_type": "stream",
     "text": [
      "YouTube : 55\n",
      "doritmi : 28\n",
      "realDonaldTrump : 26\n",
      "mercola : 21\n",
      "233liveOnline : 21\n",
      "sharethis : 20\n",
      "HealthRanger : 19\n",
      "WHO : 16\n",
      "CDCgov : 13\n",
      "NYBloodCenter : 13\n",
      "kath2cats : 13\n",
      "wordpressdotcom : 13\n",
      "GSK : 12\n",
      "WSJ : 10\n",
      "60Minutes : 9\n"
     ]
    },
    {
     "data": {
      "text/plain": [
       "Text(0,0.5,'Raw count')"
      ]
     },
     "execution_count": 16,
     "metadata": {},
     "output_type": "execute_result"
    },
    {
     "data": {
      "image/png": "[encoded data removed]",
      "text/plain": [
       "<Figure size 576x396 with 1 Axes>"
      ]
     },
     "metadata": {},
     "output_type": "display_data"
    }
   ],
   "source": [
    "#frequency analysis for @s\n",
    "import itertools\n",
    "from collections import Counter\n",
    "ats_freq_counter = Counter()\n",
    "\n",
    "tot_ats = [row[8] for row in data if len(row[8])!=0] \n",
    "ats = list(itertools.chain.from_iterable(tot_ats))\n",
    "\n",
    "for at in ats:\n",
    "    ats_freq_counter[at] += 1\n",
    "\n",
    "from operator import itemgetter\n",
    "sorted_ats_freqs = sorted(ats_freq_counter.items(),\n",
    "                                  reverse=True,\n",
    "                                  key=itemgetter(1))\n",
    "#print(len(sorted_hashtag_freqs)), this is 1518. \n",
    "\n",
    "#printing top 15\n",
    "for at, count in sorted_ats_freqs[:15]:\n",
    "    print(at, \":\", count)\n",
    "\n",
    "%matplotlib inline\n",
    "import matplotlib.pyplot as plt\n",
    "plt.style.use('seaborn')  # prettier plots (for example, use 'ggplot' instead of 'seaborn' for plots like in R)\n",
    "\n",
    "num_top_ats_to_plot = 25\n",
    "top_ats = [ats for ats, count in sorted_ats_freqs[:num_top_ats_to_plot]]\n",
    "top_counts = [count for ats, count in sorted_ats_freqs[:num_top_ats_to_plot]]\n",
    "plt.bar(range(num_top_ats_to_plot), top_counts)\n",
    "plt.xticks(range(num_top_ats_to_plot), top_ats, rotation=90)\n",
    "plt.xlabel('@s')\n",
    "plt.ylabel('Raw count')"
   ]
  },
  {
   "cell_type": "code",
   "execution_count": 17,
   "metadata": {},
   "outputs": [],
   "source": [
    "#separate these hashtags and out by its labels: \n",
    "import pandas as pd\n",
    "import numpy as np\n",
    "\n",
    "\n",
    "df = pd.DataFrame(data, columns=col_header)\n",
    "df = df.drop(col_header[:6], axis = 1)\n",
    "\n",
    "df = df.hashtags.apply(pd.Series) \\\n",
    "    .merge(df, right_index = True, left_index = True) \\\n",
    "    .drop([\"hashtags\"], axis = 1) \\\n",
    "    .melt(id_vars = ['Label', 'ats'], value_name = \"hashtag\") \\\n",
    "    .drop(\"variable\", axis = 1) \\\n",
    "    .dropna()\n",
    "\n",
    "long_df = df.ats.apply(pd.Series) \\\n",
    "    .merge(df, right_index = True, left_index = True) \\\n",
    "    .drop([\"ats\"], axis = 1) \\\n",
    "    .melt(id_vars = ['Label', 'hashtag'], value_name = \"atsym\") \\\n",
    "    .drop(\"variable\", axis = 1)\\\n",
    "    .dropna()"
   ]
  },
  {
   "cell_type": "code",
   "execution_count": 18,
   "metadata": {},
   "outputs": [
    {
     "data": {
      "text/html": [
       "<div>\n",
       "<style scoped>\n",
       "    .dataframe tbody tr th:only-of-type {\n",
       "        vertical-align: middle;\n",
       "    }\n",
       "\n",
       "    .dataframe tbody tr th {\n",
       "        vertical-align: top;\n",
       "    }\n",
       "\n",
       "    .dataframe thead th {\n",
       "        text-align: right;\n",
       "    }\n",
       "</style>\n",
       "<table border=\"1\" class=\"dataframe\">\n",
       "  <thead>\n",
       "    <tr style=\"text-align: right;\">\n",
       "      <th>Label</th>\n",
       "      <th>Anti-Vaccine</th>\n",
       "      <th>Neutral</th>\n",
       "      <th>Pro-Vaccine</th>\n",
       "    </tr>\n",
       "    <tr>\n",
       "      <th>hashtag</th>\n",
       "      <th></th>\n",
       "      <th></th>\n",
       "      <th></th>\n",
       "    </tr>\n",
       "  </thead>\n",
       "  <tbody>\n",
       "    <tr>\n",
       "      <th>CDCwhistleblower</th>\n",
       "      <td>34</td>\n",
       "      <td>1</td>\n",
       "      <td>1</td>\n",
       "    </tr>\n",
       "    <tr>\n",
       "      <th>Ebola</th>\n",
       "      <td>3</td>\n",
       "      <td>8</td>\n",
       "      <td>0</td>\n",
       "    </tr>\n",
       "    <tr>\n",
       "      <th>HPV</th>\n",
       "      <td>4</td>\n",
       "      <td>7</td>\n",
       "      <td>6</td>\n",
       "    </tr>\n",
       "    <tr>\n",
       "      <th>SB277</th>\n",
       "      <td>5</td>\n",
       "      <td>5</td>\n",
       "      <td>1</td>\n",
       "    </tr>\n",
       "    <tr>\n",
       "      <th>Zika</th>\n",
       "      <td>1</td>\n",
       "      <td>26</td>\n",
       "      <td>1</td>\n",
       "    </tr>\n",
       "    <tr>\n",
       "      <th>health</th>\n",
       "      <td>1</td>\n",
       "      <td>4</td>\n",
       "      <td>0</td>\n",
       "    </tr>\n",
       "    <tr>\n",
       "      <th>news</th>\n",
       "      <td>2</td>\n",
       "      <td>1</td>\n",
       "      <td>0</td>\n",
       "    </tr>\n",
       "    <tr>\n",
       "      <th>vaccine</th>\n",
       "      <td>2</td>\n",
       "      <td>7</td>\n",
       "      <td>0</td>\n",
       "    </tr>\n",
       "    <tr>\n",
       "      <th>vaccines</th>\n",
       "      <td>4</td>\n",
       "      <td>7</td>\n",
       "      <td>5</td>\n",
       "    </tr>\n",
       "    <tr>\n",
       "      <th>vaccineswork</th>\n",
       "      <td>0</td>\n",
       "      <td>9</td>\n",
       "      <td>13</td>\n",
       "    </tr>\n",
       "  </tbody>\n",
       "</table>\n",
       "</div>"
      ],
      "text/plain": [
       "Label             Anti-Vaccine  Neutral  Pro-Vaccine\n",
       "hashtag                                             \n",
       "CDCwhistleblower            34        1            1\n",
       "Ebola                        3        8            0\n",
       "HPV                          4        7            6\n",
       "SB277                        5        5            1\n",
       "Zika                         1       26            1\n",
       "health                       1        4            0\n",
       "news                         2        1            0\n",
       "vaccine                      2        7            0\n",
       "vaccines                     4        7            5\n",
       "vaccineswork                 0        9           13"
      ]
     },
     "execution_count": 18,
     "metadata": {},
     "output_type": "execute_result"
    }
   ],
   "source": [
    "#create co-occurance matrix for hashtags\n",
    "top50_hash_df = long_df[long_df.hashtag.isin(top_hashes[:10])]\n",
    "co_mat_hash = pd.crosstab(top50_hash_df.hashtag, top50_hash_df.Label)\n",
    "co_mat_hash"
   ]
  },
  {
   "cell_type": "code",
   "execution_count": 19,
   "metadata": {},
   "outputs": [
    {
     "data": {
      "text/plain": [
       "<matplotlib.axes._subplots.AxesSubplot at 0x1caaa4ab5c0>"
      ]
     },
     "execution_count": 19,
     "metadata": {},
     "output_type": "execute_result"
    },
    {
     "data": {
      "image/png": "[encoded data removed]",
      "text/plain": [
       "<Figure size 576x396 with 2 Axes>"
      ]
     },
     "metadata": {},
     "output_type": "display_data"
    }
   ],
   "source": [
    "#create heatmap for co-ocurrence table\n",
    "import seaborn as sns\n",
    "sns_plot = sns.heatmap(co_mat_hash, cmap = 'RdPu',annot=True, fmt = ' ')\n",
    "sns_plot\n",
    "#sns_plot.figure.savefig(\"hash_heatmap.png\", bbox_inches=\"tight\") # to save the fig"
   ]
  },
  {
   "cell_type": "code",
   "execution_count": 20,
   "metadata": {},
   "outputs": [
    {
     "name": "stderr",
     "output_type": "stream",
     "text": [
      "C:\\Users\\Alton\\Miniconda3\\lib\\site-packages\\ipykernel_launcher.py:10: RuntimeWarning: divide by zero encountered in log2\n",
      "  # Remove the CWD from sys.path while we load stuff.\n"
     ]
    },
    {
     "data": {
      "text/html": [
       "<div>\n",
       "<style scoped>\n",
       "    .dataframe tbody tr th:only-of-type {\n",
       "        vertical-align: middle;\n",
       "    }\n",
       "\n",
       "    .dataframe tbody tr th {\n",
       "        vertical-align: top;\n",
       "    }\n",
       "\n",
       "    .dataframe thead th {\n",
       "        text-align: right;\n",
       "    }\n",
       "</style>\n",
       "<table border=\"1\" class=\"dataframe\">\n",
       "  <thead>\n",
       "    <tr style=\"text-align: right;\">\n",
       "      <th>Label</th>\n",
       "      <th>Anti-Vaccine</th>\n",
       "      <th>Neutral</th>\n",
       "      <th>Pro-Vaccine</th>\n",
       "    </tr>\n",
       "    <tr>\n",
       "      <th>hashtag</th>\n",
       "      <th></th>\n",
       "      <th></th>\n",
       "      <th></th>\n",
       "    </tr>\n",
       "  </thead>\n",
       "  <tbody>\n",
       "    <tr>\n",
       "      <th>CDCwhistleblower</th>\n",
       "      <td>1.413964</td>\n",
       "      <td>-4.094963</td>\n",
       "      <td>-2.621032</td>\n",
       "    </tr>\n",
       "    <tr>\n",
       "      <th>Ebola</th>\n",
       "      <td>-0.378043</td>\n",
       "      <td>0.615530</td>\n",
       "      <td>-inf</td>\n",
       "    </tr>\n",
       "    <tr>\n",
       "      <th>HPV</th>\n",
       "      <td>-0.591037</td>\n",
       "      <td>-0.205146</td>\n",
       "      <td>1.046393</td>\n",
       "    </tr>\n",
       "    <tr>\n",
       "      <th>SB277</th>\n",
       "      <td>0.358922</td>\n",
       "      <td>-0.062541</td>\n",
       "      <td>-0.910538</td>\n",
       "    </tr>\n",
       "    <tr>\n",
       "      <th>Zika</th>\n",
       "      <td>-3.310929</td>\n",
       "      <td>0.968047</td>\n",
       "      <td>-2.258462</td>\n",
       "    </tr>\n",
       "    <tr>\n",
       "      <th>health</th>\n",
       "      <td>-0.825502</td>\n",
       "      <td>0.753034</td>\n",
       "      <td>-inf</td>\n",
       "    </tr>\n",
       "    <tr>\n",
       "      <th>news</th>\n",
       "      <td>0.911463</td>\n",
       "      <td>-0.510000</td>\n",
       "      <td>-inf</td>\n",
       "    </tr>\n",
       "    <tr>\n",
       "      <th>vaccine</th>\n",
       "      <td>-0.673499</td>\n",
       "      <td>0.712392</td>\n",
       "      <td>-inf</td>\n",
       "    </tr>\n",
       "    <tr>\n",
       "      <th>vaccines</th>\n",
       "      <td>-0.503574</td>\n",
       "      <td>-0.117683</td>\n",
       "      <td>0.870821</td>\n",
       "    </tr>\n",
       "    <tr>\n",
       "      <th>vaccineswork</th>\n",
       "      <td>-inf</td>\n",
       "      <td>-0.214545</td>\n",
       "      <td>1.789901</td>\n",
       "    </tr>\n",
       "  </tbody>\n",
       "</table>\n",
       "</div>"
      ],
      "text/plain": [
       "Label             Anti-Vaccine   Neutral  Pro-Vaccine\n",
       "hashtag                                              \n",
       "CDCwhistleblower      1.413964 -4.094963    -2.621032\n",
       "Ebola                -0.378043  0.615530         -inf\n",
       "HPV                  -0.591037 -0.205146     1.046393\n",
       "SB277                 0.358922 -0.062541    -0.910538\n",
       "Zika                 -3.310929  0.968047    -2.258462\n",
       "health               -0.825502  0.753034         -inf\n",
       "news                  0.911463 -0.510000         -inf\n",
       "vaccine              -0.673499  0.712392         -inf\n",
       "vaccines             -0.503574 -0.117683     0.870821\n",
       "vaccineswork              -inf -0.214545     1.789901"
      ]
     },
     "execution_count": 20,
     "metadata": {},
     "output_type": "execute_result"
    }
   ],
   "source": [
    "#calc pmi\n",
    "hash_jp_tbl = co_mat_hash/co_mat_hash.values.sum() #first calculate joint probability\n",
    "\n",
    "label_prob = hash_jp_tbl.sum(axis=0) #marginal probability  - label\n",
    "hasht_prob = hash_jp_tbl.sum(axis=1) #marginal probability - hash\n",
    "hasht_jprob_tbl_if_indep = np.outer(label_prob, hasht_prob)\n",
    "\n",
    "\n",
    "PMI = np.log2(hash_jp_tbl /\n",
    "              hasht_jprob_tbl_if_indep.transpose())\n",
    "PMI_hash_df = pd.DataFrame(PMI)\n",
    "PMI_hash_df"
   ]
  },
  {
   "cell_type": "code",
   "execution_count": 21,
   "metadata": {},
   "outputs": [
    {
     "data": {
      "text/html": [
       "<div>\n",
       "<style scoped>\n",
       "    .dataframe tbody tr th:only-of-type {\n",
       "        vertical-align: middle;\n",
       "    }\n",
       "\n",
       "    .dataframe tbody tr th {\n",
       "        vertical-align: top;\n",
       "    }\n",
       "\n",
       "    .dataframe thead th {\n",
       "        text-align: right;\n",
       "    }\n",
       "</style>\n",
       "<table border=\"1\" class=\"dataframe\">\n",
       "  <thead>\n",
       "    <tr style=\"text-align: right;\">\n",
       "      <th>Label</th>\n",
       "      <th>Anti-Vaccine</th>\n",
       "      <th>Neutral</th>\n",
       "      <th>Pro-Vaccine</th>\n",
       "    </tr>\n",
       "    <tr>\n",
       "      <th>atsym</th>\n",
       "      <th></th>\n",
       "      <th></th>\n",
       "      <th></th>\n",
       "    </tr>\n",
       "  </thead>\n",
       "  <tbody>\n",
       "    <tr>\n",
       "      <th>CDCgov</th>\n",
       "      <td>0</td>\n",
       "      <td>7</td>\n",
       "      <td>0</td>\n",
       "    </tr>\n",
       "    <tr>\n",
       "      <th>HealthRanger</th>\n",
       "      <td>1</td>\n",
       "      <td>0</td>\n",
       "      <td>0</td>\n",
       "    </tr>\n",
       "    <tr>\n",
       "      <th>NYBloodCenter</th>\n",
       "      <td>4</td>\n",
       "      <td>17</td>\n",
       "      <td>4</td>\n",
       "    </tr>\n",
       "    <tr>\n",
       "      <th>WHO</th>\n",
       "      <td>0</td>\n",
       "      <td>13</td>\n",
       "      <td>7</td>\n",
       "    </tr>\n",
       "    <tr>\n",
       "      <th>YouTube</th>\n",
       "      <td>13</td>\n",
       "      <td>2</td>\n",
       "      <td>3</td>\n",
       "    </tr>\n",
       "    <tr>\n",
       "      <th>doritmi</th>\n",
       "      <td>1</td>\n",
       "      <td>2</td>\n",
       "      <td>0</td>\n",
       "    </tr>\n",
       "    <tr>\n",
       "      <th>realDonaldTrump</th>\n",
       "      <td>11</td>\n",
       "      <td>11</td>\n",
       "      <td>8</td>\n",
       "    </tr>\n",
       "    <tr>\n",
       "      <th>sharethis</th>\n",
       "      <td>4</td>\n",
       "      <td>0</td>\n",
       "      <td>0</td>\n",
       "    </tr>\n",
       "  </tbody>\n",
       "</table>\n",
       "</div>"
      ],
      "text/plain": [
       "Label            Anti-Vaccine  Neutral  Pro-Vaccine\n",
       "atsym                                              \n",
       "CDCgov                      0        7            0\n",
       "HealthRanger                1        0            0\n",
       "NYBloodCenter               4       17            4\n",
       "WHO                         0       13            7\n",
       "YouTube                    13        2            3\n",
       "doritmi                     1        2            0\n",
       "realDonaldTrump            11       11            8\n",
       "sharethis                   4        0            0"
      ]
     },
     "execution_count": 21,
     "metadata": {},
     "output_type": "execute_result"
    }
   ],
   "source": [
    "#create co-occurance matrix for @\n",
    "top50_at_df =  long_df[long_df.atsym.isin(top_ats[:10])]\n",
    "co_mat_at = pd.crosstab(top50_at_df.atsym, top50_at_df.Label)\n",
    "co_mat_at"
   ]
  },
  {
   "cell_type": "code",
   "execution_count": 22,
   "metadata": {},
   "outputs": [
    {
     "data": {
      "text/plain": [
       "<matplotlib.axes._subplots.AxesSubplot at 0x1caaa5584a8>"
      ]
     },
     "execution_count": 22,
     "metadata": {},
     "output_type": "execute_result"
    },
    {
     "data": {
      "image/png": "[encoded data removed]",
      "text/plain": [
       "<Figure size 576x396 with 2 Axes>"
      ]
     },
     "metadata": {},
     "output_type": "display_data"
    }
   ],
   "source": [
    "#create heatmap for co-ocurrence table\n",
    "sns_plot = sns.heatmap(co_mat_at, cmap = 'RdPu',annot=True,fmt=' ')\n",
    "sns_plot\n",
    "#sns_plot.figure.savefig(\"at_heatmap.png\", bbox_inches=\"tight\")"
   ]
  },
  {
   "cell_type": "code",
   "execution_count": 23,
   "metadata": {},
   "outputs": [
    {
     "name": "stderr",
     "output_type": "stream",
     "text": [
      "C:\\Users\\Alton\\Miniconda3\\lib\\site-packages\\ipykernel_launcher.py:8: RuntimeWarning: divide by zero encountered in log2\n",
      "  \n"
     ]
    },
    {
     "data": {
      "text/html": [
       "<div>\n",
       "<style scoped>\n",
       "    .dataframe tbody tr th:only-of-type {\n",
       "        vertical-align: middle;\n",
       "    }\n",
       "\n",
       "    .dataframe tbody tr th {\n",
       "        vertical-align: top;\n",
       "    }\n",
       "\n",
       "    .dataframe thead th {\n",
       "        text-align: right;\n",
       "    }\n",
       "</style>\n",
       "<table border=\"1\" class=\"dataframe\">\n",
       "  <thead>\n",
       "    <tr style=\"text-align: right;\">\n",
       "      <th>Label</th>\n",
       "      <th>Anti-Vaccine</th>\n",
       "      <th>Neutral</th>\n",
       "      <th>Pro-Vaccine</th>\n",
       "    </tr>\n",
       "    <tr>\n",
       "      <th>atsym</th>\n",
       "      <th></th>\n",
       "      <th></th>\n",
       "      <th></th>\n",
       "    </tr>\n",
       "  </thead>\n",
       "  <tbody>\n",
       "    <tr>\n",
       "      <th>CDCgov</th>\n",
       "      <td>-inf</td>\n",
       "      <td>1.054448</td>\n",
       "      <td>-inf</td>\n",
       "    </tr>\n",
       "    <tr>\n",
       "      <th>HealthRanger</th>\n",
       "      <td>1.667425</td>\n",
       "      <td>-inf</td>\n",
       "      <td>-inf</td>\n",
       "    </tr>\n",
       "    <tr>\n",
       "      <th>NYBloodCenter</th>\n",
       "      <td>-0.976432</td>\n",
       "      <td>0.498054</td>\n",
       "      <td>-0.348400</td>\n",
       "    </tr>\n",
       "    <tr>\n",
       "      <th>WHO</th>\n",
       "      <td>-inf</td>\n",
       "      <td>0.432959</td>\n",
       "      <td>0.780883</td>\n",
       "    </tr>\n",
       "    <tr>\n",
       "      <th>YouTube</th>\n",
       "      <td>1.197939</td>\n",
       "      <td>-2.115477</td>\n",
       "      <td>-0.289507</td>\n",
       "    </tr>\n",
       "    <tr>\n",
       "      <th>doritmi</th>\n",
       "      <td>0.082462</td>\n",
       "      <td>0.469485</td>\n",
       "      <td>-inf</td>\n",
       "    </tr>\n",
       "    <tr>\n",
       "      <th>realDonaldTrump</th>\n",
       "      <td>0.219966</td>\n",
       "      <td>-0.393011</td>\n",
       "      <td>0.388565</td>\n",
       "    </tr>\n",
       "    <tr>\n",
       "      <th>sharethis</th>\n",
       "      <td>1.667425</td>\n",
       "      <td>-inf</td>\n",
       "      <td>-inf</td>\n",
       "    </tr>\n",
       "  </tbody>\n",
       "</table>\n",
       "</div>"
      ],
      "text/plain": [
       "Label            Anti-Vaccine   Neutral  Pro-Vaccine\n",
       "atsym                                               \n",
       "CDCgov                   -inf  1.054448         -inf\n",
       "HealthRanger         1.667425      -inf         -inf\n",
       "NYBloodCenter       -0.976432  0.498054    -0.348400\n",
       "WHO                      -inf  0.432959     0.780883\n",
       "YouTube              1.197939 -2.115477    -0.289507\n",
       "doritmi              0.082462  0.469485         -inf\n",
       "realDonaldTrump      0.219966 -0.393011     0.388565\n",
       "sharethis            1.667425      -inf         -inf"
      ]
     },
     "execution_count": 23,
     "metadata": {},
     "output_type": "execute_result"
    }
   ],
   "source": [
    "#calc pmi\n",
    "at_jp_tbl = co_mat_at/co_mat_at.values.sum() #first calculate joint probability\n",
    "\n",
    "label_prob = at_jp_tbl.sum(axis=0) #marginal probability  - label\n",
    "at_prob = at_jp_tbl.sum(axis=1) #marginal probability - ats\n",
    "at_jprob_tbl_if_indep = np.outer(label_prob, at_prob)\n",
    "\n",
    "PMI = np.log2(at_jp_tbl / at_jprob_tbl_if_indep.transpose())\n",
    "PMI_at_df = pd.DataFrame(PMI)\n",
    "PMI_at_df"
   ]
  },
  {
   "cell_type": "markdown",
   "metadata": {},
   "source": [
    "### Clustering with PCA, TSNE, and GMM"
   ]
  },
  {
   "cell_type": "code",
   "execution_count": 24,
   "metadata": {},
   "outputs": [],
   "source": [
    "# TFIDF Vectorization\n",
    "from sklearn.feature_extraction.text import TfidfVectorizer\n",
    "\n",
    "vectorizer = TfidfVectorizer(min_df = 10, max_df = .8, stop_words = \"english\")\n",
    "X = vectorizer.fit_transform(corpus)\n",
    "X = X.toarray()\n",
    "vocab = vectorizer.vocabulary_"
   ]
  },
  {
   "cell_type": "code",
   "execution_count": 25,
   "metadata": {},
   "outputs": [
    {
     "data": {
      "text/plain": [
       "array([ 0.01948078,  0.01260967])"
      ]
     },
     "execution_count": 25,
     "metadata": {},
     "output_type": "execute_result"
    }
   ],
   "source": [
    "#PCA\n",
    "from sklearn.decomposition import PCA\n",
    "import matplotlib.pyplot as plt\n",
    "\n",
    "# run PCA\n",
    "pca = PCA(n_components=2, random_state=7)\n",
    "X_r = pca.fit(X).transform(X)\n",
    "\n",
    "pca.explained_variance_"
   ]
  },
  {
   "cell_type": "code",
   "execution_count": 26,
   "metadata": {},
   "outputs": [
    {
     "data": {
      "image/png": "[encoded data removed]",
      "text/plain": [
       "<Figure size 576x396 with 1 Axes>"
      ]
     },
     "metadata": {},
     "output_type": "display_data"
    }
   ],
   "source": [
    "plt.scatter(X_r[:, 0], X_r[:, 1],\n",
    "             c=doc_labels == 'Anti-Vaccine', cmap=plt.cm.coolwarm);"
   ]
  },
  {
   "cell_type": "markdown",
   "metadata": {},
   "source": [
    "There doesn't appear to be any clusters with PCA and the explained variance is extremely low. We can try with the GMM and TSNE"
   ]
  },
  {
   "cell_type": "markdown",
   "metadata": {},
   "source": [
    "### TSNE (Long runtime)"
   ]
  },
  {
   "cell_type": "code",
   "execution_count": 27,
   "metadata": {},
   "outputs": [
    {
     "name": "stdout",
     "output_type": "stream",
     "text": [
      "Wall time: 10min 13s\n"
     ]
    }
   ],
   "source": [
    "%%time\n",
    "#tsne (long runtime)\n",
    "from sklearn.manifold import TSNE as tsne\n",
    "tsne = tsne(n_components = 2, perplexity = 25, random_state = 7, angle = .99, init = 'pca')\n",
    "tweet_transform = tsne.fit_transform(X)\n",
    "tweet_transform_list = list(tweet_transform)"
   ]
  },
  {
   "cell_type": "code",
   "execution_count": 28,
   "metadata": {},
   "outputs": [
    {
     "data": {
      "text/plain": [
       "<matplotlib.collections.PathCollection at 0x1caaa82a6a0>"
      ]
     },
     "execution_count": 28,
     "metadata": {},
     "output_type": "execute_result"
    },
    {
     "data": {
      "image/png": "[encoded data removed]",
      "text/plain": [
       "<Figure size 576x396 with 1 Axes>"
      ]
     },
     "metadata": {},
     "output_type": "display_data"
    }
   ],
   "source": [
    "label_array = np.asarray(doc_labels)\n",
    "plt.scatter(tweet_transform[:, 0], tweet_transform[:, 1],\n",
    "             c=doc_labels == 'Anti-Vaccine', cmap=plt.cm.coolwarm)"
   ]
  },
  {
   "cell_type": "markdown",
   "metadata": {},
   "source": [
    "We've tested with various perplexity values, but there didn't appear to be a change. No clusters between the groups."
   ]
  },
  {
   "cell_type": "markdown",
   "metadata": {},
   "source": [
    "### GMM"
   ]
  },
  {
   "cell_type": "code",
   "execution_count": 29,
   "metadata": {},
   "outputs": [
    {
     "name": "stdout",
     "output_type": "stream",
     "text": [
      "[0 1 1 ..., 0 0 1]\n"
     ]
    },
    {
     "data": {
      "text/plain": [
       "array([[   0, 2372],\n",
       "       [   1, 4397],\n",
       "       [   2,  264]], dtype=int64)"
      ]
     },
     "execution_count": 29,
     "metadata": {},
     "output_type": "execute_result"
    }
   ],
   "source": [
    "#GMM\n",
    "import numpy as np\n",
    "import matplotlib.pyplot as plt\n",
    "from sklearn.mixture import GaussianMixture as GMM\n",
    "\n",
    "Gauss_Result = GMM(n_components=3, random_state = 7, n_init = 1).fit(X)\n",
    "Prediction = Gauss_Result.predict(X)\n",
    "print(Prediction)\n",
    "y = np.bincount(Prediction)\n",
    "ii = np.nonzero(y)[0]\n",
    "\n",
    "np.vstack((ii,y[ii])).T"
   ]
  },
  {
   "cell_type": "code",
   "execution_count": 30,
   "metadata": {},
   "outputs": [
    {
     "data": {
      "text/html": [
       "<div>\n",
       "<style scoped>\n",
       "    .dataframe tbody tr th:only-of-type {\n",
       "        vertical-align: middle;\n",
       "    }\n",
       "\n",
       "    .dataframe tbody tr th {\n",
       "        vertical-align: top;\n",
       "    }\n",
       "\n",
       "    .dataframe thead th {\n",
       "        text-align: right;\n",
       "    }\n",
       "</style>\n",
       "<table border=\"1\" class=\"dataframe\">\n",
       "  <thead>\n",
       "    <tr style=\"text-align: right;\">\n",
       "      <th>Label</th>\n",
       "      <th>Anti-Vaccine</th>\n",
       "      <th>Neutral</th>\n",
       "      <th>Pro-Vaccine</th>\n",
       "      <th>All</th>\n",
       "    </tr>\n",
       "    <tr>\n",
       "      <th>row_0</th>\n",
       "      <th></th>\n",
       "      <th></th>\n",
       "      <th></th>\n",
       "      <th></th>\n",
       "    </tr>\n",
       "  </thead>\n",
       "  <tbody>\n",
       "    <tr>\n",
       "      <th>0</th>\n",
       "      <td>0.060287</td>\n",
       "      <td>0.195223</td>\n",
       "      <td>0.081757</td>\n",
       "      <td>0.337267</td>\n",
       "    </tr>\n",
       "    <tr>\n",
       "      <th>1</th>\n",
       "      <td>0.156974</td>\n",
       "      <td>0.396417</td>\n",
       "      <td>0.071804</td>\n",
       "      <td>0.625196</td>\n",
       "    </tr>\n",
       "    <tr>\n",
       "      <th>2</th>\n",
       "      <td>0.005261</td>\n",
       "      <td>0.027300</td>\n",
       "      <td>0.004977</td>\n",
       "      <td>0.037537</td>\n",
       "    </tr>\n",
       "    <tr>\n",
       "      <th>All</th>\n",
       "      <td>0.222522</td>\n",
       "      <td>0.618939</td>\n",
       "      <td>0.158538</td>\n",
       "      <td>1.000000</td>\n",
       "    </tr>\n",
       "  </tbody>\n",
       "</table>\n",
       "</div>"
      ],
      "text/plain": [
       "Label  Anti-Vaccine   Neutral  Pro-Vaccine       All\n",
       "row_0                                               \n",
       "0          0.060287  0.195223     0.081757  0.337267\n",
       "1          0.156974  0.396417     0.071804  0.625196\n",
       "2          0.005261  0.027300     0.004977  0.037537\n",
       "All        0.222522  0.618939     0.158538  1.000000"
      ]
     },
     "execution_count": 30,
     "metadata": {},
     "output_type": "execute_result"
    }
   ],
   "source": [
    "pd.crosstab(Prediction, tweet_data['Label'], margins=True)\n",
    "pd.crosstab(Prediction, tweet_data['Label'], margins=True, normalize=True)"
   ]
  },
  {
   "cell_type": "markdown",
   "metadata": {},
   "source": [
    "With Gaussian Mixture Models, we see that there aren't any obvious clusters. This was unexpected since many of the tokens had different term frequenices in the data. However, not enough to show any clusters. "
   ]
  },
  {
   "cell_type": "markdown",
   "metadata": {},
   "source": [
    "### Processing\n",
    "\n",
    "Because we didn't find any obvious clusters in our groups, we have to engineer some features that would increase the accuracy of our prediction model.\n",
    "\n",
    "We will attempt the following:\n",
    "1. Sentiment, Subjectivity, Reading Ease\n",
    "2. Bag of Words Approach to Hashtags\n",
    "\n",
    "We believe that there may be some differences between groups in their sentiment, how opinioned their tweets are, as well as their writing quality.\n",
    "\n",
    "Furthermore, hashtags contain a lot of information about the context of the tweet. Instead of using a tfidf vectorization to encode the hashtags, a bag of words model would reflect their increased importance in a tweet. "
   ]
  },
  {
   "cell_type": "markdown",
   "metadata": {},
   "source": [
    "#### Modifying the tfidf X matrix into a dataframe with column names as words"
   ]
  },
  {
   "cell_type": "code",
   "execution_count": 31,
   "metadata": {},
   "outputs": [],
   "source": [
    "tfidf_df = pd.DataFrame(X)\n",
    "tfidf_df.columns = vocab"
   ]
  },
  {
   "cell_type": "code",
   "execution_count": 32,
   "metadata": {},
   "outputs": [
    {
     "data": {
      "text/html": [
       "<div>\n",
       "<style scoped>\n",
       "    .dataframe tbody tr th:only-of-type {\n",
       "        vertical-align: middle;\n",
       "    }\n",
       "\n",
       "    .dataframe tbody tr th {\n",
       "        vertical-align: top;\n",
       "    }\n",
       "\n",
       "    .dataframe thead th {\n",
       "        text-align: right;\n",
       "    }\n",
       "</style>\n",
       "<table border=\"1\" class=\"dataframe\">\n",
       "  <thead>\n",
       "    <tr style=\"text-align: right;\">\n",
       "      <th></th>\n",
       "      <th>getting</th>\n",
       "      <th>flu</th>\n",
       "      <th>vaccine</th>\n",
       "      <th>new</th>\n",
       "      <th>hiv</th>\n",
       "      <th>trial</th>\n",
       "      <th>cdcgov</th>\n",
       "      <th>nih</th>\n",
       "      <th>amp</th>\n",
       "      <th>working</th>\n",
       "      <th>...</th>\n",
       "      <th>exemption</th>\n",
       "      <th>hidden</th>\n",
       "      <th>fights</th>\n",
       "      <th>jim</th>\n",
       "      <th>expert</th>\n",
       "      <th>added</th>\n",
       "      <th>guide</th>\n",
       "      <th>indianmade</th>\n",
       "      <th>retweeted</th>\n",
       "      <th>usda</th>\n",
       "    </tr>\n",
       "  </thead>\n",
       "  <tbody>\n",
       "    <tr>\n",
       "      <th>0</th>\n",
       "      <td>0.0</td>\n",
       "      <td>0.0</td>\n",
       "      <td>0.0</td>\n",
       "      <td>0.0</td>\n",
       "      <td>0.0</td>\n",
       "      <td>0.0</td>\n",
       "      <td>0.0</td>\n",
       "      <td>0.0</td>\n",
       "      <td>0.0</td>\n",
       "      <td>0.0</td>\n",
       "      <td>...</td>\n",
       "      <td>0.0</td>\n",
       "      <td>0.0</td>\n",
       "      <td>0.0</td>\n",
       "      <td>0.0</td>\n",
       "      <td>0.0</td>\n",
       "      <td>0.0</td>\n",
       "      <td>0.0</td>\n",
       "      <td>0.0</td>\n",
       "      <td>0.0</td>\n",
       "      <td>0.000000</td>\n",
       "    </tr>\n",
       "    <tr>\n",
       "      <th>1</th>\n",
       "      <td>0.0</td>\n",
       "      <td>0.0</td>\n",
       "      <td>0.0</td>\n",
       "      <td>0.0</td>\n",
       "      <td>0.0</td>\n",
       "      <td>0.0</td>\n",
       "      <td>0.0</td>\n",
       "      <td>0.0</td>\n",
       "      <td>0.0</td>\n",
       "      <td>0.0</td>\n",
       "      <td>...</td>\n",
       "      <td>0.0</td>\n",
       "      <td>0.0</td>\n",
       "      <td>0.0</td>\n",
       "      <td>0.0</td>\n",
       "      <td>0.0</td>\n",
       "      <td>0.0</td>\n",
       "      <td>0.0</td>\n",
       "      <td>0.0</td>\n",
       "      <td>0.0</td>\n",
       "      <td>0.000000</td>\n",
       "    </tr>\n",
       "    <tr>\n",
       "      <th>2</th>\n",
       "      <td>0.0</td>\n",
       "      <td>0.0</td>\n",
       "      <td>0.0</td>\n",
       "      <td>0.0</td>\n",
       "      <td>0.0</td>\n",
       "      <td>0.0</td>\n",
       "      <td>0.0</td>\n",
       "      <td>0.0</td>\n",
       "      <td>0.0</td>\n",
       "      <td>0.0</td>\n",
       "      <td>...</td>\n",
       "      <td>0.0</td>\n",
       "      <td>0.0</td>\n",
       "      <td>0.0</td>\n",
       "      <td>0.0</td>\n",
       "      <td>0.0</td>\n",
       "      <td>0.0</td>\n",
       "      <td>0.0</td>\n",
       "      <td>0.0</td>\n",
       "      <td>0.0</td>\n",
       "      <td>0.230833</td>\n",
       "    </tr>\n",
       "  </tbody>\n",
       "</table>\n",
       "<p>3 rows × 1035 columns</p>\n",
       "</div>"
      ],
      "text/plain": [
       "   getting  flu  vaccine  new  hiv  trial  cdcgov  nih  amp  working  \\\n",
       "0      0.0  0.0      0.0  0.0  0.0    0.0     0.0  0.0  0.0      0.0   \n",
       "1      0.0  0.0      0.0  0.0  0.0    0.0     0.0  0.0  0.0      0.0   \n",
       "2      0.0  0.0      0.0  0.0  0.0    0.0     0.0  0.0  0.0      0.0   \n",
       "\n",
       "     ...     exemption  hidden  fights  jim  expert  added  guide  indianmade  \\\n",
       "0    ...           0.0     0.0     0.0  0.0     0.0    0.0    0.0         0.0   \n",
       "1    ...           0.0     0.0     0.0  0.0     0.0    0.0    0.0         0.0   \n",
       "2    ...           0.0     0.0     0.0  0.0     0.0    0.0    0.0         0.0   \n",
       "\n",
       "   retweeted      usda  \n",
       "0        0.0  0.000000  \n",
       "1        0.0  0.000000  \n",
       "2        0.0  0.230833  \n",
       "\n",
       "[3 rows x 1035 columns]"
      ]
     },
     "execution_count": 32,
     "metadata": {},
     "output_type": "execute_result"
    }
   ],
   "source": [
    "tfidf_df.head(3)"
   ]
  },
  {
   "cell_type": "markdown",
   "metadata": {},
   "source": [
    "### Feature Engineering\n",
    "\n",
    "In addition to the metadata that Twitter provides, we can leverage our understanding of tweets and metadata within the tweets to create new features. Examples of Twitter features that convert into dataset features in our analysis include:\n",
    "\n",
    "* References to hashtag topics using the # symbol\n",
    "* References to external websites using URLs\n",
    "* Sentiment of each specific tweet"
   ]
  },
  {
   "cell_type": "code",
   "execution_count": 33,
   "metadata": {},
   "outputs": [
    {
     "name": "stderr",
     "output_type": "stream",
     "text": [
      "C:\\Users\\Alton\\Miniconda3\\lib\\site-packages\\nltk\\twitter\\__init__.py:20: UserWarning: The twython library has not been installed. Some functionality from the twitter package will not be available.\n",
      "  warnings.warn(\"The twython library has not been installed. \"\n"
     ]
    }
   ],
   "source": [
    "from textblob import TextBlob\n",
    "from nltk.sentiment.vader import SentimentIntensityAnalyzer as sia\n",
    "import textstat\n",
    "\n",
    "from IPython.core.interactiveshell import InteractiveShell\n",
    "InteractiveShell.ast_node_interactivity = \"all\""
   ]
  },
  {
   "cell_type": "code",
   "execution_count": 34,
   "metadata": {},
   "outputs": [],
   "source": [
    "feature_engineer = []\n",
    "for i in corpus:\n",
    "    polariy, subjectivity = TextBlob(i).sentiment\n",
    "    ease = textstat.flesch_reading_ease(i)\n",
    "    feature_engineer.append((polariy, subjectivity, ease))"
   ]
  },
  {
   "cell_type": "code",
   "execution_count": 35,
   "metadata": {},
   "outputs": [],
   "source": [
    "features = pd.DataFrame(feature_engineer)\n",
    "features.columns = ['polarity', 'subjectivity', 'reading_level']"
   ]
  },
  {
   "cell_type": "code",
   "execution_count": 36,
   "metadata": {},
   "outputs": [
    {
     "data": {
      "text/html": [
       "<div>\n",
       "<style scoped>\n",
       "    .dataframe tbody tr th:only-of-type {\n",
       "        vertical-align: middle;\n",
       "    }\n",
       "\n",
       "    .dataframe tbody tr th {\n",
       "        vertical-align: top;\n",
       "    }\n",
       "\n",
       "    .dataframe thead th {\n",
       "        text-align: right;\n",
       "    }\n",
       "</style>\n",
       "<table border=\"1\" class=\"dataframe\">\n",
       "  <thead>\n",
       "    <tr style=\"text-align: right;\">\n",
       "      <th></th>\n",
       "      <th>polarity</th>\n",
       "      <th>subjectivity</th>\n",
       "      <th>reading_level</th>\n",
       "    </tr>\n",
       "  </thead>\n",
       "  <tbody>\n",
       "    <tr>\n",
       "      <th>0</th>\n",
       "      <td>0.000000</td>\n",
       "      <td>0.000000</td>\n",
       "      <td>56.93</td>\n",
       "    </tr>\n",
       "    <tr>\n",
       "      <th>1</th>\n",
       "      <td>0.136364</td>\n",
       "      <td>0.454545</td>\n",
       "      <td>80.28</td>\n",
       "    </tr>\n",
       "    <tr>\n",
       "      <th>2</th>\n",
       "      <td>0.000000</td>\n",
       "      <td>0.000000</td>\n",
       "      <td>55.24</td>\n",
       "    </tr>\n",
       "  </tbody>\n",
       "</table>\n",
       "</div>"
      ],
      "text/plain": [
       "   polarity  subjectivity  reading_level\n",
       "0  0.000000      0.000000          56.93\n",
       "1  0.136364      0.454545          80.28\n",
       "2  0.000000      0.000000          55.24"
      ]
     },
     "execution_count": 36,
     "metadata": {},
     "output_type": "execute_result"
    }
   ],
   "source": [
    "features.head(3)"
   ]
  },
  {
   "cell_type": "markdown",
   "metadata": {},
   "source": [
    "### Bag of Words for Hashtags"
   ]
  },
  {
   "cell_type": "markdown",
   "metadata": {},
   "source": [
    "While we implemented a tfidf vectorization to the data, so these hashtags are technically included, we expect that there are more values relevant to them specifically. So our project wants to specifically emphasize the hashtags as separate features through a bag of words feature vector. This will be appended to the final data."
   ]
  },
  {
   "cell_type": "code",
   "execution_count": 107,
   "metadata": {},
   "outputs": [
    {
     "data": {
      "text/plain": [
       "['health',\n",
       " 'vaccines',\n",
       " 'CDCwhistleblower',\n",
       " 'vaccineswork',\n",
       " 'vaccine',\n",
       " 'news',\n",
       " 'Zika',\n",
       " 'Ebola',\n",
       " 'SB277',\n",
       " 'HPV']"
      ]
     },
     "execution_count": 107,
     "metadata": {},
     "output_type": "execute_result"
    }
   ],
   "source": [
    "# Looking at the top 5 hash tags\n",
    "top_hashes[:5]"
   ]
  },
  {
   "cell_type": "code",
   "execution_count": 144,
   "metadata": {},
   "outputs": [],
   "source": [
    "# Function defined to extract the specific hashtags in each document\n",
    "\n",
    "def keepHashTags(listText):\n",
    "    \n",
    "    lst = []\n",
    "    p = re.compile(r'[#]([^\\s]+)')\n",
    "    for i in listText:\n",
    "        hashes = p.findall(i)\n",
    "        hashes = ' '.join(hashes)\n",
    "        lst.append(hashes)\n",
    "\n",
    "    return(lst)"
   ]
  },
  {
   "cell_type": "code",
   "execution_count": 145,
   "metadata": {},
   "outputs": [],
   "source": [
    "hash_corpus = keepHashTags(text_list)"
   ]
  },
  {
   "cell_type": "code",
   "execution_count": 150,
   "metadata": {},
   "outputs": [],
   "source": [
    "# Bag of words for only hashtag text\n",
    "\n",
    "from sklearn.feature_extraction.text import CountVectorizer\n",
    "vectorizer = CountVectorizer()\n",
    "X2 = vectorizer.fit_transform(hash_corpus) \n",
    "data_hash = pd.DataFrame(X2.toarray())\n",
    "data_hash.columns = vectorizer.get_feature_names()"
   ]
  },
  {
   "cell_type": "code",
   "execution_count": 154,
   "metadata": {},
   "outputs": [],
   "source": [
    "# Take only a subset of the top hashtags\n",
    "num_hashes = 50\n",
    "data_hash_subset = data_hash.filter(top_hashes[:num_hashes])"
   ]
  },
  {
   "cell_type": "markdown",
   "metadata": {},
   "source": [
    "### Merge Data"
   ]
  },
  {
   "cell_type": "code",
   "execution_count": 155,
   "metadata": {},
   "outputs": [
    {
     "data": {
      "text/html": [
       "<div>\n",
       "<style scoped>\n",
       "    .dataframe tbody tr th:only-of-type {\n",
       "        vertical-align: middle;\n",
       "    }\n",
       "\n",
       "    .dataframe tbody tr th {\n",
       "        vertical-align: top;\n",
       "    }\n",
       "\n",
       "    .dataframe thead th {\n",
       "        text-align: right;\n",
       "    }\n",
       "</style>\n",
       "<table border=\"1\" class=\"dataframe\">\n",
       "  <thead>\n",
       "    <tr style=\"text-align: right;\">\n",
       "      <th></th>\n",
       "      <th>tweet_id</th>\n",
       "      <th>text</th>\n",
       "      <th>retweet_count</th>\n",
       "      <th>favorite_count</th>\n",
       "      <th>created_at</th>\n",
       "      <th>has_url</th>\n",
       "      <th>Label</th>\n",
       "      <th>getting</th>\n",
       "      <th>flu</th>\n",
       "      <th>vaccine</th>\n",
       "      <th>...</th>\n",
       "      <th>vaccineswork</th>\n",
       "      <th>vaccine</th>\n",
       "      <th>news</th>\n",
       "      <th>flu</th>\n",
       "      <th>autism</th>\n",
       "      <th>polio</th>\n",
       "      <th>vaxxed</th>\n",
       "      <th>science</th>\n",
       "      <th>malaria</th>\n",
       "      <th>vaxfax</th>\n",
       "    </tr>\n",
       "  </thead>\n",
       "  <tbody>\n",
       "    <tr>\n",
       "      <th>0</th>\n",
       "      <td>667416104143355905</td>\n",
       "      <td>.: Getting A Reliable Flu Vaccine DC https://t...</td>\n",
       "      <td>0</td>\n",
       "      <td>0</td>\n",
       "      <td>Thu Nov 19 18:56:13 +0000 2015</td>\n",
       "      <td>1</td>\n",
       "      <td>Neutral</td>\n",
       "      <td>0.0</td>\n",
       "      <td>0.0</td>\n",
       "      <td>0.0</td>\n",
       "      <td>...</td>\n",
       "      <td>0</td>\n",
       "      <td>0</td>\n",
       "      <td>0</td>\n",
       "      <td>0</td>\n",
       "      <td>0</td>\n",
       "      <td>0</td>\n",
       "      <td>0</td>\n",
       "      <td>0</td>\n",
       "      <td>0</td>\n",
       "      <td>0</td>\n",
       "    </tr>\n",
       "    <tr>\n",
       "      <th>1</th>\n",
       "      <td>803264636560740354</td>\n",
       "      <td>, New HIV Vaccine Trial To Commence In S/Afric...</td>\n",
       "      <td>0</td>\n",
       "      <td>0</td>\n",
       "      <td>Mon Nov 28 15:49:47 +0000 2016</td>\n",
       "      <td>1</td>\n",
       "      <td>Neutral</td>\n",
       "      <td>0.0</td>\n",
       "      <td>0.0</td>\n",
       "      <td>0.0</td>\n",
       "      <td>...</td>\n",
       "      <td>0</td>\n",
       "      <td>0</td>\n",
       "      <td>0</td>\n",
       "      <td>0</td>\n",
       "      <td>0</td>\n",
       "      <td>0</td>\n",
       "      <td>0</td>\n",
       "      <td>0</td>\n",
       "      <td>0</td>\n",
       "      <td>0</td>\n",
       "    </tr>\n",
       "    <tr>\n",
       "      <th>2</th>\n",
       "      <td>769650014972960768</td>\n",
       "      <td>.@CDCgov, @NIH, &amp;amp; others are working to de...</td>\n",
       "      <td>0</td>\n",
       "      <td>0</td>\n",
       "      <td>Sat Aug 27 21:37:17 +0000 2016</td>\n",
       "      <td>1</td>\n",
       "      <td>Neutral</td>\n",
       "      <td>0.0</td>\n",
       "      <td>0.0</td>\n",
       "      <td>0.0</td>\n",
       "      <td>...</td>\n",
       "      <td>0</td>\n",
       "      <td>0</td>\n",
       "      <td>0</td>\n",
       "      <td>0</td>\n",
       "      <td>0</td>\n",
       "      <td>0</td>\n",
       "      <td>0</td>\n",
       "      <td>0</td>\n",
       "      <td>0</td>\n",
       "      <td>0</td>\n",
       "    </tr>\n",
       "  </tbody>\n",
       "</table>\n",
       "<p>3 rows × 1057 columns</p>\n",
       "</div>"
      ],
      "text/plain": [
       "             tweet_id                                               text  \\\n",
       "0  667416104143355905  .: Getting A Reliable Flu Vaccine DC https://t...   \n",
       "1  803264636560740354  , New HIV Vaccine Trial To Commence In S/Afric...   \n",
       "2  769650014972960768  .@CDCgov, @NIH, &amp; others are working to de...   \n",
       "\n",
       "   retweet_count  favorite_count                      created_at  has_url  \\\n",
       "0              0               0  Thu Nov 19 18:56:13 +0000 2015        1   \n",
       "1              0               0  Mon Nov 28 15:49:47 +0000 2016        1   \n",
       "2              0               0  Sat Aug 27 21:37:17 +0000 2016        1   \n",
       "\n",
       "     Label  getting  flu  vaccine   ...    vaccineswork  vaccine  news  flu  \\\n",
       "0  Neutral      0.0  0.0      0.0   ...               0        0     0    0   \n",
       "1  Neutral      0.0  0.0      0.0   ...               0        0     0    0   \n",
       "2  Neutral      0.0  0.0      0.0   ...               0        0     0    0   \n",
       "\n",
       "   autism  polio  vaxxed  science  malaria  vaxfax  \n",
       "0       0      0       0        0        0       0  \n",
       "1       0      0       0        0        0       0  \n",
       "2       0      0       0        0        0       0  \n",
       "\n",
       "[3 rows x 1057 columns]"
      ]
     },
     "execution_count": 155,
     "metadata": {},
     "output_type": "execute_result"
    }
   ],
   "source": [
    "data_final = pd.concat([tweet_data, tfidf_df, features, data_hash_subset], axis=1)\n",
    "data_final.head(3)"
   ]
  },
  {
   "cell_type": "markdown",
   "metadata": {},
   "source": [
    "<hr>\n",
    "\n",
    "<h2 style=\"color: #006caf;\"><a id=\"analysis\">Analysis</a></h2>"
   ]
  },
  {
   "cell_type": "markdown",
   "metadata": {},
   "source": [
    "#### Considering the new features"
   ]
  },
  {
   "cell_type": "code",
   "execution_count": 156,
   "metadata": {},
   "outputs": [
    {
     "data": {
      "text/plain": [
       "Label\n",
       "Anti-Vaccine    1565\n",
       "Neutral         4353\n",
       "Pro-Vaccine     1115\n",
       "dtype: int64"
      ]
     },
     "execution_count": 156,
     "metadata": {},
     "output_type": "execute_result"
    }
   ],
   "source": [
    "data_final.groupby('Label').size()"
   ]
  },
  {
   "cell_type": "code",
   "execution_count": 157,
   "metadata": {},
   "outputs": [
    {
     "data": {
      "text/html": [
       "<div>\n",
       "<style scoped>\n",
       "    .dataframe tbody tr th:only-of-type {\n",
       "        vertical-align: middle;\n",
       "    }\n",
       "\n",
       "    .dataframe tbody tr th {\n",
       "        vertical-align: top;\n",
       "    }\n",
       "\n",
       "    .dataframe thead th {\n",
       "        text-align: right;\n",
       "    }\n",
       "</style>\n",
       "<table border=\"1\" class=\"dataframe\">\n",
       "  <thead>\n",
       "    <tr style=\"text-align: right;\">\n",
       "      <th></th>\n",
       "      <th>count</th>\n",
       "      <th>mean</th>\n",
       "      <th>std</th>\n",
       "      <th>min</th>\n",
       "      <th>25%</th>\n",
       "      <th>50%</th>\n",
       "      <th>75%</th>\n",
       "      <th>max</th>\n",
       "    </tr>\n",
       "    <tr>\n",
       "      <th>Label</th>\n",
       "      <th></th>\n",
       "      <th></th>\n",
       "      <th></th>\n",
       "      <th></th>\n",
       "      <th></th>\n",
       "      <th></th>\n",
       "      <th></th>\n",
       "      <th></th>\n",
       "    </tr>\n",
       "  </thead>\n",
       "  <tbody>\n",
       "    <tr>\n",
       "      <th>Anti-Vaccine</th>\n",
       "      <td>1565.0</td>\n",
       "      <td>0.037256</td>\n",
       "      <td>0.255536</td>\n",
       "      <td>-1.0</td>\n",
       "      <td>0.0</td>\n",
       "      <td>0.0</td>\n",
       "      <td>0.100000</td>\n",
       "      <td>1.0</td>\n",
       "    </tr>\n",
       "    <tr>\n",
       "      <th>Neutral</th>\n",
       "      <td>4353.0</td>\n",
       "      <td>0.058297</td>\n",
       "      <td>0.230292</td>\n",
       "      <td>-1.0</td>\n",
       "      <td>0.0</td>\n",
       "      <td>0.0</td>\n",
       "      <td>0.136364</td>\n",
       "      <td>1.0</td>\n",
       "    </tr>\n",
       "    <tr>\n",
       "      <th>Pro-Vaccine</th>\n",
       "      <td>1115.0</td>\n",
       "      <td>0.088353</td>\n",
       "      <td>0.262892</td>\n",
       "      <td>-1.0</td>\n",
       "      <td>0.0</td>\n",
       "      <td>0.0</td>\n",
       "      <td>0.244792</td>\n",
       "      <td>1.0</td>\n",
       "    </tr>\n",
       "  </tbody>\n",
       "</table>\n",
       "</div>"
      ],
      "text/plain": [
       "               count      mean       std  min  25%  50%       75%  max\n",
       "Label                                                                 \n",
       "Anti-Vaccine  1565.0  0.037256  0.255536 -1.0  0.0  0.0  0.100000  1.0\n",
       "Neutral       4353.0  0.058297  0.230292 -1.0  0.0  0.0  0.136364  1.0\n",
       "Pro-Vaccine   1115.0  0.088353  0.262892 -1.0  0.0  0.0  0.244792  1.0"
      ]
     },
     "execution_count": 157,
     "metadata": {},
     "output_type": "execute_result"
    }
   ],
   "source": [
    "data_final.groupby('Label')['polarity'].describe()"
   ]
  },
  {
   "cell_type": "code",
   "execution_count": 158,
   "metadata": {},
   "outputs": [
    {
     "data": {
      "text/html": [
       "<div>\n",
       "<style scoped>\n",
       "    .dataframe tbody tr th:only-of-type {\n",
       "        vertical-align: middle;\n",
       "    }\n",
       "\n",
       "    .dataframe tbody tr th {\n",
       "        vertical-align: top;\n",
       "    }\n",
       "\n",
       "    .dataframe thead th {\n",
       "        text-align: right;\n",
       "    }\n",
       "</style>\n",
       "<table border=\"1\" class=\"dataframe\">\n",
       "  <thead>\n",
       "    <tr style=\"text-align: right;\">\n",
       "      <th></th>\n",
       "      <th>count</th>\n",
       "      <th>mean</th>\n",
       "      <th>std</th>\n",
       "      <th>min</th>\n",
       "      <th>25%</th>\n",
       "      <th>50%</th>\n",
       "      <th>75%</th>\n",
       "      <th>max</th>\n",
       "    </tr>\n",
       "    <tr>\n",
       "      <th>Label</th>\n",
       "      <th></th>\n",
       "      <th></th>\n",
       "      <th></th>\n",
       "      <th></th>\n",
       "      <th></th>\n",
       "      <th></th>\n",
       "      <th></th>\n",
       "      <th></th>\n",
       "    </tr>\n",
       "  </thead>\n",
       "  <tbody>\n",
       "    <tr>\n",
       "      <th>Anti-Vaccine</th>\n",
       "      <td>1565.0</td>\n",
       "      <td>0.264911</td>\n",
       "      <td>0.308393</td>\n",
       "      <td>0.0</td>\n",
       "      <td>0.0</td>\n",
       "      <td>0.100000</td>\n",
       "      <td>0.50</td>\n",
       "      <td>1.0</td>\n",
       "    </tr>\n",
       "    <tr>\n",
       "      <th>Neutral</th>\n",
       "      <td>4353.0</td>\n",
       "      <td>0.277264</td>\n",
       "      <td>0.306325</td>\n",
       "      <td>0.0</td>\n",
       "      <td>0.0</td>\n",
       "      <td>0.200000</td>\n",
       "      <td>0.50</td>\n",
       "      <td>1.0</td>\n",
       "    </tr>\n",
       "    <tr>\n",
       "      <th>Pro-Vaccine</th>\n",
       "      <td>1115.0</td>\n",
       "      <td>0.316113</td>\n",
       "      <td>0.316418</td>\n",
       "      <td>0.0</td>\n",
       "      <td>0.0</td>\n",
       "      <td>0.288889</td>\n",
       "      <td>0.55</td>\n",
       "      <td>1.0</td>\n",
       "    </tr>\n",
       "  </tbody>\n",
       "</table>\n",
       "</div>"
      ],
      "text/plain": [
       "               count      mean       std  min  25%       50%   75%  max\n",
       "Label                                                                  \n",
       "Anti-Vaccine  1565.0  0.264911  0.308393  0.0  0.0  0.100000  0.50  1.0\n",
       "Neutral       4353.0  0.277264  0.306325  0.0  0.0  0.200000  0.50  1.0\n",
       "Pro-Vaccine   1115.0  0.316113  0.316418  0.0  0.0  0.288889  0.55  1.0"
      ]
     },
     "execution_count": 158,
     "metadata": {},
     "output_type": "execute_result"
    }
   ],
   "source": [
    "data_final.groupby('Label')['subjectivity'].describe()"
   ]
  },
  {
   "cell_type": "code",
   "execution_count": 159,
   "metadata": {},
   "outputs": [
    {
     "data": {
      "text/html": [
       "<div>\n",
       "<style scoped>\n",
       "    .dataframe tbody tr th:only-of-type {\n",
       "        vertical-align: middle;\n",
       "    }\n",
       "\n",
       "    .dataframe tbody tr th {\n",
       "        vertical-align: top;\n",
       "    }\n",
       "\n",
       "    .dataframe thead th {\n",
       "        text-align: right;\n",
       "    }\n",
       "</style>\n",
       "<table border=\"1\" class=\"dataframe\">\n",
       "  <thead>\n",
       "    <tr style=\"text-align: right;\">\n",
       "      <th></th>\n",
       "      <th>count</th>\n",
       "      <th>mean</th>\n",
       "      <th>std</th>\n",
       "      <th>min</th>\n",
       "      <th>25%</th>\n",
       "      <th>50%</th>\n",
       "      <th>75%</th>\n",
       "      <th>max</th>\n",
       "    </tr>\n",
       "    <tr>\n",
       "      <th>Label</th>\n",
       "      <th></th>\n",
       "      <th></th>\n",
       "      <th></th>\n",
       "      <th></th>\n",
       "      <th></th>\n",
       "      <th></th>\n",
       "      <th></th>\n",
       "      <th></th>\n",
       "    </tr>\n",
       "  </thead>\n",
       "  <tbody>\n",
       "    <tr>\n",
       "      <th>Anti-Vaccine</th>\n",
       "      <td>1565.0</td>\n",
       "      <td>50.494658</td>\n",
       "      <td>23.947514</td>\n",
       "      <td>-57.12</td>\n",
       "      <td>36.96</td>\n",
       "      <td>53.21</td>\n",
       "      <td>67.76</td>\n",
       "      <td>108.03</td>\n",
       "    </tr>\n",
       "    <tr>\n",
       "      <th>Neutral</th>\n",
       "      <td>4353.0</td>\n",
       "      <td>53.283262</td>\n",
       "      <td>24.721786</td>\n",
       "      <td>-69.98</td>\n",
       "      <td>38.32</td>\n",
       "      <td>55.91</td>\n",
       "      <td>70.13</td>\n",
       "      <td>118.18</td>\n",
       "    </tr>\n",
       "    <tr>\n",
       "      <th>Pro-Vaccine</th>\n",
       "      <td>1115.0</td>\n",
       "      <td>52.872251</td>\n",
       "      <td>24.411022</td>\n",
       "      <td>-52.05</td>\n",
       "      <td>38.32</td>\n",
       "      <td>56.25</td>\n",
       "      <td>69.79</td>\n",
       "      <td>112.09</td>\n",
       "    </tr>\n",
       "  </tbody>\n",
       "</table>\n",
       "</div>"
      ],
      "text/plain": [
       "               count       mean        std    min    25%    50%    75%     max\n",
       "Label                                                                         \n",
       "Anti-Vaccine  1565.0  50.494658  23.947514 -57.12  36.96  53.21  67.76  108.03\n",
       "Neutral       4353.0  53.283262  24.721786 -69.98  38.32  55.91  70.13  118.18\n",
       "Pro-Vaccine   1115.0  52.872251  24.411022 -52.05  38.32  56.25  69.79  112.09"
      ]
     },
     "execution_count": 159,
     "metadata": {},
     "output_type": "execute_result"
    }
   ],
   "source": [
    "data_final.groupby('Label')['reading_level'].describe()"
   ]
  },
  {
   "cell_type": "markdown",
   "metadata": {},
   "source": [
    "Our feature engineering created some valuable differentation between clusters, but not enough. The high variance limits the value of these features."
   ]
  },
  {
   "cell_type": "markdown",
   "metadata": {},
   "source": [
    "### Tweet Classification"
   ]
  },
  {
   "cell_type": "markdown",
   "metadata": {},
   "source": [
    "For policy-makers, understanding the composition of tweets in terms of sentiment toward vaccines is an important first step. Once an understanding is developed, the next logical evolution is to classify future tweets into anti-vaccine, pro-vaccine, or neutral.  Using machine learning models, we can construct vaccination tweet classifiers. Applying cross-validation, we can tune the hyperparameters used in each model.  Once we construct the best models in each breed ('best in breed'), we can then compare them to determine a best overall ('best in show') model."
   ]
  },
  {
   "cell_type": "markdown",
   "metadata": {},
   "source": [
    "#### Imports and Train/Test Split"
   ]
  },
  {
   "cell_type": "code",
   "execution_count": 160,
   "metadata": {},
   "outputs": [],
   "source": [
    "import numpy as np\n",
    "import pandas as pd\n",
    "from sklearn.linear_model import LogisticRegression\n",
    "from sklearn.ensemble import RandomForestClassifier\n",
    "from sklearn.model_selection import GridSearchCV\n",
    "from sklearn.model_selection import train_test_split\n",
    "\n",
    "# Read in the data for building a classifier\n",
    "X = data_final\n",
    "\n",
    "# Snatch the label from X\n",
    "y = data_final.Label == 'Anti-Vaccine'\n",
    "\n",
    "# Drop non-numeric columns that we don't need\n",
    "X = data_final.drop(['Label', 'tweet_id', 'text', 'created_at'], axis=1)\n",
    "\n",
    "# Split the data into train and test sets\n",
    "X_train, X_test, y_train, y_test = train_test_split(X, y, test_size=0.30, shuffle=True)"
   ]
  },
  {
   "cell_type": "code",
   "execution_count": 161,
   "metadata": {},
   "outputs": [
    {
     "data": {
      "text/plain": [
       "array([False,  True], dtype=bool)"
      ]
     },
     "execution_count": 161,
     "metadata": {},
     "output_type": "execute_result"
    }
   ],
   "source": [
    "np.unique(y_train)"
   ]
  },
  {
   "cell_type": "markdown",
   "metadata": {},
   "source": [
    "#### Training a Logistic Regression Classifier\n",
    "\n",
    "The first classifier that we attempt to fit to this data is popular and named logistic regression. This model belongs to the linear family of models but works well when the output is discrete. In our setting, we have 3 output labels (anti-vaccine, pro-vaccine, and neutral). It is important for a policy-maker and social media content manager to be able to differentiate between the three categories of tweets. However, because we want to differentiate anti-vaccine content from acceptable vaccine content, we re-cast the problem into binary classification\n",
    "\n",
    "<span style=\"color: darkred;\">Note: The following code cell requires about 1-3 minutes to execute.</span>"
   ]
  },
  {
   "cell_type": "code",
   "execution_count": 162,
   "metadata": {},
   "outputs": [
    {
     "name": "stdout",
     "output_type": "stream",
     "text": [
      "Wall time: 1min 54s\n"
     ]
    }
   ],
   "source": [
    "%%time\n",
    "\n",
    "# Set up logistic regression\n",
    "\n",
    "lr_params = {'fit_intercept': [True, False], 'class_weight': [None, \"balanced\"]}\n",
    "lr = LogisticRegression(solver='lbfgs', max_iter=1000, multi_class='multinomial')\n",
    "\n",
    "lr_gridsearch = GridSearchCV(lr, lr_params, cv=5) # Set up the grid search\n",
    "lr_gridsearch.fit(X_train, y_train) # Fit the grid search\n",
    "\n",
    "# Store the best settings\n",
    "lr_best_intercept = lr_gridsearch.cv_results_['params'][np.argmax(lr_gridsearch.cv_results_['mean_test_score'])]['fit_intercept']\n",
    "lr_best_classweight = lr_gridsearch.cv_results_['params'][np.argmax(lr_gridsearch.cv_results_['mean_test_score'])]['class_weight']"
   ]
  },
  {
   "cell_type": "markdown",
   "metadata": {},
   "source": [
    "#### Training a Random Forest Classifier\n",
    "\n",
    "Instead of relying on a linear model, we can use a method that ensembles many bagged decision trees called random forest. Like the logistic regression, the random forest has hyperparameters that should be tuned to optimize classification performance on unseen data. \n",
    "\n",
    "<span style=\"color: darkred;\">Note: The following code cell requires about 8-15 minutes to execute.</span>"
   ]
  },
  {
   "cell_type": "code",
   "execution_count": 163,
   "metadata": {},
   "outputs": [
    {
     "name": "stdout",
     "output_type": "stream",
     "text": [
      "Wall time: 12min 55s\n"
     ]
    }
   ],
   "source": [
    "%%time\n",
    "\n",
    "# Set up random forest\n",
    "\n",
    "rf_params = {'n_estimators': [5, 10, 20, 30, 50, 100, 150], 'max_depth': [1, 3, 5, 10, 25, 50, 100, 250]}\n",
    "rf = RandomForestClassifier(criterion='entropy') # Set to entropy because it sounds cooler\n",
    "\n",
    "rf_gridsearch = GridSearchCV(rf, rf_params, cv=5) # Set up the grid search\n",
    "rf_gridsearch.fit(X_train, y_train) # Fit the grid search\n",
    "\n",
    "# Grid search results\n",
    "rf_gridsearch.cv_results_['params'][np.argmax(rf_gridsearch.cv_results_['mean_test_score'])]\n",
    "\n",
    "# Store the best settings\n",
    "rf_best_maxdepth = rf_gridsearch.cv_results_['params'][np.argmax(rf_gridsearch.cv_results_['mean_test_score'])]['max_depth']\n",
    "rf_best_nestimators = rf_gridsearch.cv_results_['params'][np.argmax(rf_gridsearch.cv_results_['mean_test_score'])]['n_estimators']"
   ]
  },
  {
   "cell_type": "markdown",
   "metadata": {},
   "source": [
    "#### Model Evaluation"
   ]
  },
  {
   "cell_type": "markdown",
   "metadata": {},
   "source": [
    "Once we have determined the best model hyperparameters, we can compare the logistic regression performance to the random forest performance using Receiver Operating Characteristic (ROC) curves and Precision-Recall curves."
   ]
  },
  {
   "cell_type": "code",
   "execution_count": 164,
   "metadata": {},
   "outputs": [
    {
     "data": {
      "text/plain": [
       "RandomForestClassifier(bootstrap=True, class_weight=None, criterion='entropy',\n",
       "            max_depth=100, max_features='auto', max_leaf_nodes=None,\n",
       "            min_impurity_decrease=0.0, min_impurity_split=None,\n",
       "            min_samples_leaf=1, min_samples_split=2,\n",
       "            min_weight_fraction_leaf=0.0, n_estimators=50, n_jobs=1,\n",
       "            oob_score=False, random_state=None, verbose=0,\n",
       "            warm_start=False)"
      ]
     },
     "execution_count": 164,
     "metadata": {},
     "output_type": "execute_result"
    },
    {
     "data": {
      "text/plain": [
       "LogisticRegression(C=1.0, class_weight=None, dual=False, fit_intercept=True,\n",
       "          intercept_scaling=1, max_iter=1000, multi_class='multinomial',\n",
       "          n_jobs=1, penalty='l2', random_state=None, solver='lbfgs',\n",
       "          tol=0.0001, verbose=0, warm_start=False)"
      ]
     },
     "execution_count": 164,
     "metadata": {},
     "output_type": "execute_result"
    },
    {
     "data": {
      "text/plain": [
       "<Figure size 864x720 with 0 Axes>"
      ]
     },
     "execution_count": 164,
     "metadata": {},
     "output_type": "execute_result"
    },
    {
     "data": {
      "text/plain": [
       "[<matplotlib.lines.Line2D at 0x1caa9ed4668>]"
      ]
     },
     "execution_count": 164,
     "metadata": {},
     "output_type": "execute_result"
    },
    {
     "data": {
      "text/plain": [
       "[<matplotlib.lines.Line2D at 0x1caa9ef84a8>]"
      ]
     },
     "execution_count": 164,
     "metadata": {},
     "output_type": "execute_result"
    },
    {
     "data": {
      "text/plain": [
       "<matplotlib.legend.Legend at 0x1caa9e140f0>"
      ]
     },
     "execution_count": 164,
     "metadata": {},
     "output_type": "execute_result"
    },
    {
     "data": {
      "text/plain": [
       "Text(0.5,1,'ROC curve')"
      ]
     },
     "execution_count": 164,
     "metadata": {},
     "output_type": "execute_result"
    },
    {
     "data": {
      "text/plain": [
       "Text(0.5,0,'FPR')"
      ]
     },
     "execution_count": 164,
     "metadata": {},
     "output_type": "execute_result"
    },
    {
     "data": {
      "text/plain": [
       "Text(0,0.5,'TPR')"
      ]
     },
     "execution_count": 164,
     "metadata": {},
     "output_type": "execute_result"
    },
    {
     "data": {
      "image/png": "[encoded data removed]",
      "text/plain": [
       "<Figure size 864x720 with 1 Axes>"
      ]
     },
     "metadata": {},
     "output_type": "display_data"
    }
   ],
   "source": [
    "from sklearn.metrics import roc_curve\n",
    "from matplotlib import pyplot as plt\n",
    "\n",
    "### Generate ROC curves for the best model parameters\n",
    "\n",
    "## Random Forest\n",
    "\n",
    "# Train RF\n",
    "roc_rf = RandomForestClassifier(criterion = 'entropy', \n",
    "                                max_depth = rf_best_maxdepth, \n",
    "                                n_estimators = rf_best_nestimators\n",
    "                               )\n",
    "roc_rf.fit(X_train, y_train)\n",
    "\n",
    "# Get prediction and metrics\n",
    "rf_preds = roc_rf.predict_proba(X_test)[:,1]\n",
    "rf_fpr, rf_tpr, rf_thresholds = roc_curve(y_test, rf_preds, pos_label=1)\n",
    "rf_auc = np.trapz(rf_tpr, rf_fpr)\n",
    "rf_label = \"RF:  \" + str(round(rf_auc, 3))\n",
    "\n",
    "\n",
    "## Logistic Regression\n",
    "\n",
    "# Train LR\n",
    "roc_lr = LogisticRegression(solver = 'lbfgs', \n",
    "                            max_iter = 1000, \n",
    "                            multi_class = 'multinomial', \n",
    "                            fit_intercept = lr_best_intercept, \n",
    "                            class_weight = lr_best_classweight\n",
    "                           )\n",
    "roc_lr.fit(X_train, y_train)\n",
    "\n",
    "# Get prediction and metrics\n",
    "lr_preds = roc_lr.predict_proba(X_test)[:,1]\n",
    "lr_fpr, lr_tpr, lr_thresholds = roc_curve(y_test, lr_preds, pos_label=1)\n",
    "lr_auc = np.trapz(lr_tpr, lr_fpr)\n",
    "lr_label = \"LR:  \" + str(round(lr_auc, 3))\n",
    "\n",
    "\n",
    "## Plot the ROC Curve\n",
    "plt.figure(figsize=(12,10))  \n",
    "plt.plot(rf_fpr, rf_tpr, linestyle='-', alpha=0.75, label=rf_label)\n",
    "plt.plot(lr_fpr, lr_tpr, linestyle='-', alpha=0.75, label=lr_label)\n",
    "\n",
    "plt.legend(title = 'ROC Curves', loc = 'best')   \n",
    "plt.title(\"ROC curve\")\n",
    "plt.xlabel(\"FPR\")\n",
    "plt.ylabel(\"TPR\")"
   ]
  },
  {
   "cell_type": "markdown",
   "metadata": {},
   "source": [
    "### Confusion Matrix\n",
    "\n",
    "Since we have a classification problem, we can learn from the mistakes made during model testing by reviewing the confusion matrix. We believe that false positives (i.e., a neutral or pro-vaccine tweet classified as anti-vaccine that would lead to undue censorship by the social media platforms) are potentially worse and therefore more costly than a false negative (i.e., an anti-vaccine tweet that is published without penalty)."
   ]
  },
  {
   "cell_type": "code",
   "execution_count": 210,
   "metadata": {},
   "outputs": [
    {
     "data": {
      "text/html": [
       "<div>\n",
       "<style scoped>\n",
       "    .dataframe tbody tr th:only-of-type {\n",
       "        vertical-align: middle;\n",
       "    }\n",
       "\n",
       "    .dataframe tbody tr th {\n",
       "        vertical-align: top;\n",
       "    }\n",
       "\n",
       "    .dataframe thead th {\n",
       "        text-align: right;\n",
       "    }\n",
       "</style>\n",
       "<table border=\"1\" class=\"dataframe\">\n",
       "  <thead>\n",
       "    <tr style=\"text-align: right;\">\n",
       "      <th>Predicted</th>\n",
       "      <th>0</th>\n",
       "      <th>1</th>\n",
       "    </tr>\n",
       "    <tr>\n",
       "      <th>Actual</th>\n",
       "      <th></th>\n",
       "      <th></th>\n",
       "    </tr>\n",
       "  </thead>\n",
       "  <tbody>\n",
       "    <tr>\n",
       "      <th>0</th>\n",
       "      <td>1444</td>\n",
       "      <td>196</td>\n",
       "    </tr>\n",
       "    <tr>\n",
       "      <th>1</th>\n",
       "      <td>172</td>\n",
       "      <td>298</td>\n",
       "    </tr>\n",
       "  </tbody>\n",
       "</table>\n",
       "</div>"
      ],
      "text/plain": [
       "Predicted     0    1\n",
       "Actual              \n",
       "0          1444  196\n",
       "1           172  298"
      ]
     },
     "execution_count": 210,
     "metadata": {},
     "output_type": "execute_result"
    }
   ],
   "source": [
    "y_test = y_test*1\n",
    "\n",
    "\n",
    "rf_preds_label = np.where(rf_preds > .25, 1, 0)\n",
    "\n",
    "pd.crosstab(y_test, rf_preds_label, rownames=['Actual'], colnames=['Predicted'])"
   ]
  },
  {
   "cell_type": "markdown",
   "metadata": {},
   "source": [
    "#### Deciding on threshold\n",
    "\n",
    "The threshold is very important and is dependent on how much we value a false positive or a false negative. We know from previous investor reports, Twitter has an average valuation of ~8.00 dollars per user. So the cost of a potential false positive (incorrectly banning a user for anti-vax content) costs Twitter 8.00 dollars. However, we don't know the cost of a false negative, which makes deciding the threshold difficult."
   ]
  },
  {
   "cell_type": "code",
   "execution_count": 211,
   "metadata": {},
   "outputs": [],
   "source": [
    "# Running with every threshold\n",
    "y_test = y_test*1\n",
    "\n",
    "scores = []\n",
    "for i in range(100):\n",
    "    rf_preds_label = np.where(rf_preds > i/100, 1, 0)\n",
    "\n",
    "#     pd.crosstab(y_test, rf_preds_label, rownames=['Actual'], colnames=['Predicted'])\n",
    "    tp = pd.crosstab(y_test, rf_preds_label, rownames=['Actual'], colnames=['Predicted'])[1][1]\n",
    "    fn = pd.crosstab(y_test, rf_preds_label, rownames=['Actual'], colnames=['Predicted'])[0][1]\n",
    "    tp_fp = sum(pd.crosstab(y_test, rf_preds_label, rownames=['Actual'], colnames=['Predicted'])[1])\n",
    "    tp_fn = tp + fn\n",
    "    precision = tp/tp_fp\n",
    "    recall = tp/tp_fn\n",
    "    scores.append((precision, recall))"
   ]
  },
  {
   "cell_type": "markdown",
   "metadata": {},
   "source": [
    "We can identify an overall score for each threshold and weight the costs of false postivies and negatives against each other. Below, we say that precision is weighted higher than recall in importance. We want to minimize false positives"
   ]
  },
  {
   "cell_type": "code",
   "execution_count": 215,
   "metadata": {},
   "outputs": [],
   "source": [
    "scores = [(.6*prec+.4*recall)/2 for prec, recall in scores]"
   ]
  },
  {
   "cell_type": "code",
   "execution_count": 216,
   "metadata": {},
   "outputs": [
    {
     "data": {
      "text/plain": [
       "47"
      ]
     },
     "execution_count": 216,
     "metadata": {},
     "output_type": "execute_result"
    }
   ],
   "source": [
    "np.argmax(scores)"
   ]
  },
  {
   "cell_type": "markdown",
   "metadata": {},
   "source": [
    "By having our threshold set this way, we see that our overall accuracy decreases greatly, but we minimize the false positives while not entirely increasing the false negatives."
   ]
  },
  {
   "cell_type": "code",
   "execution_count": 217,
   "metadata": {},
   "outputs": [
    {
     "data": {
      "text/html": [
       "<div>\n",
       "<style scoped>\n",
       "    .dataframe tbody tr th:only-of-type {\n",
       "        vertical-align: middle;\n",
       "    }\n",
       "\n",
       "    .dataframe tbody tr th {\n",
       "        vertical-align: top;\n",
       "    }\n",
       "\n",
       "    .dataframe thead th {\n",
       "        text-align: right;\n",
       "    }\n",
       "</style>\n",
       "<table border=\"1\" class=\"dataframe\">\n",
       "  <thead>\n",
       "    <tr style=\"text-align: right;\">\n",
       "      <th>Predicted</th>\n",
       "      <th>0</th>\n",
       "      <th>1</th>\n",
       "    </tr>\n",
       "    <tr>\n",
       "      <th>Actual</th>\n",
       "      <th></th>\n",
       "      <th></th>\n",
       "    </tr>\n",
       "  </thead>\n",
       "  <tbody>\n",
       "    <tr>\n",
       "      <th>0</th>\n",
       "      <td>1599</td>\n",
       "      <td>41</td>\n",
       "    </tr>\n",
       "    <tr>\n",
       "      <th>1</th>\n",
       "      <td>280</td>\n",
       "      <td>190</td>\n",
       "    </tr>\n",
       "  </tbody>\n",
       "</table>\n",
       "</div>"
      ],
      "text/plain": [
       "Predicted     0    1\n",
       "Actual              \n",
       "0          1599   41\n",
       "1           280  190"
      ]
     },
     "execution_count": 217,
     "metadata": {},
     "output_type": "execute_result"
    }
   ],
   "source": [
    "rf_preds_label = np.where(rf_preds > np.argmax(scores)/100, 1, 0)\n",
    "\n",
    "pd.crosstab(y_test, rf_preds_label, rownames=['Actual'], colnames=['Predicted'])"
   ]
  },
  {
   "cell_type": "markdown",
   "metadata": {},
   "source": [
    "Based on the confusion matrix we can see that the classifier is consistent (at the time of running this notebook prior to submission). The results may change as the random forest is not deterministic without a random_state set."
   ]
  },
  {
   "cell_type": "markdown",
   "metadata": {},
   "source": [
    "<hr>\n",
    "\n",
    "<h2 style=\"color: #006caf;\"><a id=\"conclusion\">Findings & Conclusion</a></h2>"
   ]
  },
  {
   "cell_type": "markdown",
   "metadata": {},
   "source": [
    "Now that our analysis is complete, let us revisit the policy question stated at the beginning of this report. Recall that our primary policy question which motivated this analysis is the following:\n",
    "\n",
    "<br/>\n",
    "\n",
    "<div style=\"background-color: #9edaff; font-size: 24px;\"><br/><center>With the rise of social media and unstructured text data, can policy makers force social media companies to regulate anti-vaccine content on their platforms?</center><br/></div>\n",
    "\n",
    "We manage to attain an accuracy of roughly 83%, though it changes depending on our threshold. \n",
    "\n",
    "Policy Recommendations: Regulating content on tech platforms is a continuing discussion in Congress. However, the feasibility of removing only anti-vaccination content is quite difficult. Users often use sarcastic remarks and there is a lot of noise in the data. Because of our findings, we recommend that Congress delay any sort of overarching regulation on technology companies and continue using soft legislation (such as letters or encouragement) to get tech companies to reduce misinformation on their platforms. "
   ]
  },
  {
   "cell_type": "markdown",
   "metadata": {},
   "source": [
    "<hr>"
   ]
  }
 ],
 "metadata": {
  "kernelspec": {
   "display_name": "Python 3",
   "language": "python",
   "name": "python3"
  },
  "language_info": {
   "codemirror_mode": {
    "name": "ipython",
    "version": 3
   },
   "file_extension": ".py",
   "mimetype": "text/x-python",
   "name": "python",
   "nbconvert_exporter": "python",
   "pygments_lexer": "ipython3",
   "version": "3.6.5"
  }
 },
 "nbformat": 4,
 "nbformat_minor": 2
}
